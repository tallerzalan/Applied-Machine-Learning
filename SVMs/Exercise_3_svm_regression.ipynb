{
  "cells": [
    {
      "cell_type": "markdown",
      "metadata": {
        "id": "view-in-github",
        "colab_type": "text"
      },
      "source": [
        "<a href=\"https://colab.research.google.com/github/tallerzalan/Applied-Machine-Learning/blob/main/SVMs/Exercise_3_svm_regression.ipynb\" target=\"_parent\"><img src=\"https://colab.research.google.com/assets/colab-badge.svg\" alt=\"Open In Colab\"/></a>"
      ]
    },
    {
      "cell_type": "markdown",
      "metadata": {
        "id": "pfGtSDmfeCVI"
      },
      "source": [
        "# Exercise - SVM for Regression\n",
        "\n",
        "1. Standardize the data and implement a linear, polynomial, and RBF SVM.\n",
        "\n",
        "   What is the performance (MSE) of each model now?\n",
        "\n",
        "   Is the linear model still best?\n",
        "\n",
        "\n",
        "2. Try to split your training data (again using $\\texttt{train_test_split}$) to obtain a validation set.\n",
        "\n",
        "   Try to optimize the performance of your model on the validation data, focusing particularly on regularization ($C$).\n",
        "   \n",
        "   Can you achieve test MSE below 10 (this is not trivial!)?\n",
        "   \n",
        "   In the original paper, they achieve an MSE of 7.2 (although it is not directly comparable).\n",
        "   \n",
        "   Remember to use standadization!\n",
        "\n",
        "**Note**: Large values of $C$ may be VERY slow to fit (for some of the models)!\n",
        "\n",
        "Try not to go too extreme, as your code may crash.\n",
        "\n",
        "**See slides for more details!**"
      ]
    },
    {
      "cell_type": "code",
      "execution_count": null,
      "metadata": {
        "colab": {
          "base_uri": "https://localhost:8080/"
        },
        "id": "UvaHq054eCVK",
        "outputId": "0551be5f-3cd8-4b78-a8ff-b5181f2b1567"
      },
      "outputs": [
        {
          "output_type": "stream",
          "name": "stdout",
          "text": [
            "(404, 13) (102, 13) (404,) (102,)\n"
          ]
        },
        {
          "output_type": "stream",
          "name": "stderr",
          "text": [
            "/usr/local/lib/python3.7/dist-packages/sklearn/utils/deprecation.py:87: FutureWarning: Function load_boston is deprecated; `load_boston` is deprecated in 1.0 and will be removed in 1.2.\n",
            "\n",
            "    The Boston housing prices dataset has an ethical problem. You can refer to\n",
            "    the documentation of this function for further details.\n",
            "\n",
            "    The scikit-learn maintainers therefore strongly discourage the use of this\n",
            "    dataset unless the purpose of the code is to study and educate about\n",
            "    ethical issues in data science and machine learning.\n",
            "\n",
            "    In this special case, you can fetch the dataset from the original\n",
            "    source::\n",
            "\n",
            "        import pandas as pd\n",
            "        import numpy as np\n",
            "\n",
            "\n",
            "        data_url = \"http://lib.stat.cmu.edu/datasets/boston\"\n",
            "        raw_df = pd.read_csv(data_url, sep=\"\\s+\", skiprows=22, header=None)\n",
            "        data = np.hstack([raw_df.values[::2, :], raw_df.values[1::2, :2]])\n",
            "        target = raw_df.values[1::2, 2]\n",
            "\n",
            "    Alternative datasets include the California housing dataset (i.e.\n",
            "    :func:`~sklearn.datasets.fetch_california_housing`) and the Ames housing\n",
            "    dataset. You can load the datasets as follows::\n",
            "\n",
            "        from sklearn.datasets import fetch_california_housing\n",
            "        housing = fetch_california_housing()\n",
            "\n",
            "    for the California housing dataset and::\n",
            "\n",
            "        from sklearn.datasets import fetch_openml\n",
            "        housing = fetch_openml(name=\"house_prices\", as_frame=True)\n",
            "\n",
            "    for the Ames housing dataset.\n",
            "    \n",
            "  warnings.warn(msg, category=FutureWarning)\n"
          ]
        }
      ],
      "source": [
        "from sklearn.datasets import load_boston # NOTE how we use the Boston data\n",
        "from sklearn.model_selection import train_test_split\n",
        "from sklearn.metrics import mean_squared_error # NOTE how we use a new metric!\n",
        "from sklearn import svm\n",
        "from sklearn.preprocessing import StandardScaler\n",
        "import pandas as pd\n",
        "import numpy as np\n",
        "\n",
        "X, y = load_boston(return_X_y = True)\n",
        "\n",
        "# Use 'train_test_split' to split your data into a train and a test set.\n",
        "X_train, X_test, y_train, y_test = train_test_split(X, y, test_size = 0.2, random_state = 9)\n",
        "print(X_train.shape, X_test.shape, y_train.shape, y_test.shape)"
      ]
    },
    {
      "cell_type": "markdown",
      "metadata": {
        "id": "EJmu_pPyeCVM"
      },
      "source": [
        "## Exercise 1.\n",
        "\n",
        "Standardize the data and implement a linear, polynomial, and RBF SVM.\n",
        "\n",
        "What is the performance (MSE) of each model now?\n",
        "\n",
        "Is the linear model still best?"
      ]
    },
    {
      "cell_type": "code",
      "execution_count": null,
      "metadata": {
        "id": "u2-luNBbeCVN"
      },
      "outputs": [],
      "source": [
        "# We will call the standardized X for Z.\n",
        "\n",
        "# It it important, that you only fit your scaler on your training and not your test data!\n",
        "\n",
        "# This is akin to when you fit your model - you do not want to \"peak\" at the test data\n",
        "\n",
        "scaler = StandardScaler()\n",
        "\n",
        "Z_train = scaler.fit_transform(X_train)\n",
        "Z_test = scaler.transform(X_test)"
      ]
    },
    {
      "cell_type": "code",
      "execution_count": null,
      "metadata": {
        "id": "ng7nh6FgeCVO",
        "colab": {
          "base_uri": "https://localhost:8080/"
        },
        "outputId": "e6b11214-3ddd-4ad4-9fdd-3c85a8d0e6fd"
      },
      "outputs": [
        {
          "output_type": "stream",
          "name": "stdout",
          "text": [
            "Linear SVM achieved 28.574 MSE.\n"
          ]
        }
      ],
      "source": [
        "# Linear SVM\n",
        "svm_linear = svm.SVR(kernel = 'linear')\n",
        "svm_linear.fit(Z_train, y_train) # Remember fit to Z_train, NOT X_train\n",
        "\n",
        "# ... and predicting\n",
        "y_test_hat_linear = svm_linear.predict(Z_test) # And Z_test here instead of X_test\n",
        "mse_linear = mean_squared_error(y_test_hat_linear, y_test)\n",
        "print(f'Linear SVM achieved {round(mse_linear, 3)} MSE.')"
      ]
    },
    {
      "cell_type": "code",
      "execution_count": null,
      "metadata": {
        "id": "YLIWmzb1eCVO",
        "colab": {
          "base_uri": "https://localhost:8080/"
        },
        "outputId": "09b2c980-ba7d-49a7-c736-f7e87251d0c4"
      },
      "outputs": [
        {
          "output_type": "stream",
          "name": "stdout",
          "text": [
            "Polynomial SVM achieved 31.457 MSE.\n"
          ]
        }
      ],
      "source": [
        "# Polynomial SVM (you decide the degree)\n",
        "svm_poly = svm.SVR(kernel = 'poly', degree = 3)\n",
        "svm_poly.fit(Z_train, y_train)\n",
        "\n",
        "# ... and predicting\n",
        "y_test_hat_poly = svm_poly.predict(Z_test)\n",
        "mse_poly = mean_squared_error(y_test_hat_poly, y_test)\n",
        "print(f'Polynomial SVM achieved {round(mse_poly, 3)} MSE.')"
      ]
    },
    {
      "cell_type": "code",
      "execution_count": null,
      "metadata": {
        "id": "DaAn1vPJeCVP",
        "colab": {
          "base_uri": "https://localhost:8080/"
        },
        "outputId": "87453ca5-5c9f-446d-b69e-fbb36bc1e909"
      },
      "outputs": [
        {
          "output_type": "stream",
          "name": "stdout",
          "text": [
            "RBF SVM achieved 34.238 MSE.\n"
          ]
        }
      ],
      "source": [
        "svm_rbf = svm.SVR(kernel = 'rbf')\n",
        "svm_rbf.fit(Z_train, y_train)\n",
        "\n",
        "# ... and predicting\n",
        "y_test_hat_rbf = svm_rbf.predict(Z_test)\n",
        "mse_rbf = mean_squared_error(y_test_hat_rbf, y_test)\n",
        "print(f'RBF SVM achieved {round(mse_rbf, 3)} MSE.')"
      ]
    },
    {
      "cell_type": "markdown",
      "metadata": {
        "id": "AQXtGV7deCVR"
      },
      "source": [
        "## Exercise 2.\n",
        "\n",
        "Try to split your training data (again using $\\texttt{train_test_split}$) to obtain a validation set.\n",
        "\n",
        "Try to optimize the performance of your model on the validation data, focusing particularly on regularization ($C$).\n",
        "\n",
        "Can you achieve test MSE below 10 (this is not trivial!)? \n",
        "\n",
        "In the original paper, they achieve an MSE of 7.2 (although it is not directly comparable).\n",
        "\n",
        "Remember to use standadization!"
      ]
    },
    {
      "cell_type": "code",
      "execution_count": null,
      "metadata": {
        "id": "9XIts-55eCVT",
        "colab": {
          "base_uri": "https://localhost:8080/"
        },
        "outputId": "df4b4617-955d-4eb3-9971-dbc22f29de54"
      },
      "outputs": [
        {
          "output_type": "stream",
          "name": "stdout",
          "text": [
            "(323, 13) (81, 13) (102, 13) (323,) (81,) (102,)\n"
          ]
        }
      ],
      "source": [
        "# Start by splitting the train data to also obtain validation data\n",
        "Z_train, Z_val, y_train, y_val = train_test_split(Z_train, y_train, test_size = 0.2, random_state = 9)\n",
        "print(Z_train.shape, Z_val.shape, Z_test.shape, y_train.shape, y_val.shape, y_test.shape)"
      ]
    },
    {
      "cell_type": "code",
      "execution_count": null,
      "metadata": {
        "scrolled": false,
        "id": "NMgm5Qu_eCVU",
        "colab": {
          "base_uri": "https://localhost:8080/"
        },
        "outputId": "24639077-0dc6-4d10-fa97-97b8d80ec62f"
      },
      "outputs": [
        {
          "output_type": "stream",
          "name": "stdout",
          "text": [
            "              MSE   Kernel     C  epsilon\n",
            "0    2.434936e+01   linear     1      0.0\n",
            "1    2.440257e+01   linear     1      0.1\n",
            "2    2.426419e+01   linear     1      0.2\n",
            "3    2.424726e+01   linear     1      0.3\n",
            "4    2.424111e+01   linear     1      0.4\n",
            "..            ...      ...   ...      ...\n",
            "479  9.275608e+06  sigmoid  1001      0.6\n",
            "480  9.275440e+06  sigmoid  1001      0.7\n",
            "481  9.275272e+06  sigmoid  1001      0.8\n",
            "482  9.275105e+06  sigmoid  1001      0.9\n",
            "483  9.274937e+06  sigmoid  1001      1.0\n",
            "\n",
            "[484 rows x 4 columns]\n"
          ]
        }
      ],
      "source": [
        "# Now try different values of kernels, C, epsilon, as well as any other settings you want to tune\n",
        "\n",
        "kernels = ['linear', 'poly', 'rbf', 'sigmoid'] # Input values seperated by \",\".\n",
        "Cs = [C for C in range(1, 1002, 100)] # Input values seperated by \",\".\n",
        "epsilons = [epsilon for epsilon in np.arange(0, 1.1, 0.1)]\n",
        "\n",
        "results = []\n",
        "\n",
        "for kernel in kernels:\n",
        "    for C in Cs:\n",
        "        for epsilon in epsilons:\n",
        "            svm_current = svm.SVR(kernel = kernel, C = C, epsilon = epsilon)\n",
        "            svm_current.fit(Z_train, y_train)\n",
        "            y_val_hat = svm_current.predict(Z_val)\n",
        "            mse = mean_squared_error(y_val_hat, y_val)\n",
        "\n",
        "            results.append([mse, kernel, C, epsilon])\n",
        "\n",
        "results = pd.DataFrame(results)\n",
        "results.columns = ['MSE', 'Kernel', 'C', 'epsilon']\n",
        "print(results)"
      ]
    },
    {
      "cell_type": "code",
      "execution_count": null,
      "metadata": {
        "id": "4H0o79IHeCVU",
        "colab": {
          "base_uri": "https://localhost:8080/",
          "height": 81
        },
        "outputId": "8ae21c98-d262-4c94-efb2-70f3be462607"
      },
      "outputs": [
        {
          "output_type": "execute_result",
          "data": {
            "text/plain": [
              "           MSE Kernel    C  epsilon\n",
              "257  12.552348    rbf  101      0.4"
            ],
            "text/html": [
              "\n",
              "  <div id=\"df-adf6e9bf-7aca-4407-ac65-09a4db852e05\">\n",
              "    <div class=\"colab-df-container\">\n",
              "      <div>\n",
              "<style scoped>\n",
              "    .dataframe tbody tr th:only-of-type {\n",
              "        vertical-align: middle;\n",
              "    }\n",
              "\n",
              "    .dataframe tbody tr th {\n",
              "        vertical-align: top;\n",
              "    }\n",
              "\n",
              "    .dataframe thead th {\n",
              "        text-align: right;\n",
              "    }\n",
              "</style>\n",
              "<table border=\"1\" class=\"dataframe\">\n",
              "  <thead>\n",
              "    <tr style=\"text-align: right;\">\n",
              "      <th></th>\n",
              "      <th>MSE</th>\n",
              "      <th>Kernel</th>\n",
              "      <th>C</th>\n",
              "      <th>epsilon</th>\n",
              "    </tr>\n",
              "  </thead>\n",
              "  <tbody>\n",
              "    <tr>\n",
              "      <th>257</th>\n",
              "      <td>12.552348</td>\n",
              "      <td>rbf</td>\n",
              "      <td>101</td>\n",
              "      <td>0.4</td>\n",
              "    </tr>\n",
              "  </tbody>\n",
              "</table>\n",
              "</div>\n",
              "      <button class=\"colab-df-convert\" onclick=\"convertToInteractive('df-adf6e9bf-7aca-4407-ac65-09a4db852e05')\"\n",
              "              title=\"Convert this dataframe to an interactive table.\"\n",
              "              style=\"display:none;\">\n",
              "        \n",
              "  <svg xmlns=\"http://www.w3.org/2000/svg\" height=\"24px\"viewBox=\"0 0 24 24\"\n",
              "       width=\"24px\">\n",
              "    <path d=\"M0 0h24v24H0V0z\" fill=\"none\"/>\n",
              "    <path d=\"M18.56 5.44l.94 2.06.94-2.06 2.06-.94-2.06-.94-.94-2.06-.94 2.06-2.06.94zm-11 1L8.5 8.5l.94-2.06 2.06-.94-2.06-.94L8.5 2.5l-.94 2.06-2.06.94zm10 10l.94 2.06.94-2.06 2.06-.94-2.06-.94-.94-2.06-.94 2.06-2.06.94z\"/><path d=\"M17.41 7.96l-1.37-1.37c-.4-.4-.92-.59-1.43-.59-.52 0-1.04.2-1.43.59L10.3 9.45l-7.72 7.72c-.78.78-.78 2.05 0 2.83L4 21.41c.39.39.9.59 1.41.59.51 0 1.02-.2 1.41-.59l7.78-7.78 2.81-2.81c.8-.78.8-2.07 0-2.86zM5.41 20L4 18.59l7.72-7.72 1.47 1.35L5.41 20z\"/>\n",
              "  </svg>\n",
              "      </button>\n",
              "      \n",
              "  <style>\n",
              "    .colab-df-container {\n",
              "      display:flex;\n",
              "      flex-wrap:wrap;\n",
              "      gap: 12px;\n",
              "    }\n",
              "\n",
              "    .colab-df-convert {\n",
              "      background-color: #E8F0FE;\n",
              "      border: none;\n",
              "      border-radius: 50%;\n",
              "      cursor: pointer;\n",
              "      display: none;\n",
              "      fill: #1967D2;\n",
              "      height: 32px;\n",
              "      padding: 0 0 0 0;\n",
              "      width: 32px;\n",
              "    }\n",
              "\n",
              "    .colab-df-convert:hover {\n",
              "      background-color: #E2EBFA;\n",
              "      box-shadow: 0px 1px 2px rgba(60, 64, 67, 0.3), 0px 1px 3px 1px rgba(60, 64, 67, 0.15);\n",
              "      fill: #174EA6;\n",
              "    }\n",
              "\n",
              "    [theme=dark] .colab-df-convert {\n",
              "      background-color: #3B4455;\n",
              "      fill: #D2E3FC;\n",
              "    }\n",
              "\n",
              "    [theme=dark] .colab-df-convert:hover {\n",
              "      background-color: #434B5C;\n",
              "      box-shadow: 0px 1px 3px 1px rgba(0, 0, 0, 0.15);\n",
              "      filter: drop-shadow(0px 1px 2px rgba(0, 0, 0, 0.3));\n",
              "      fill: #FFFFFF;\n",
              "    }\n",
              "  </style>\n",
              "\n",
              "      <script>\n",
              "        const buttonEl =\n",
              "          document.querySelector('#df-adf6e9bf-7aca-4407-ac65-09a4db852e05 button.colab-df-convert');\n",
              "        buttonEl.style.display =\n",
              "          google.colab.kernel.accessAllowed ? 'block' : 'none';\n",
              "\n",
              "        async function convertToInteractive(key) {\n",
              "          const element = document.querySelector('#df-adf6e9bf-7aca-4407-ac65-09a4db852e05');\n",
              "          const dataTable =\n",
              "            await google.colab.kernel.invokeFunction('convertToInteractive',\n",
              "                                                     [key], {});\n",
              "          if (!dataTable) return;\n",
              "\n",
              "          const docLinkHtml = 'Like what you see? Visit the ' +\n",
              "            '<a target=\"_blank\" href=https://colab.research.google.com/notebooks/data_table.ipynb>data table notebook</a>'\n",
              "            + ' to learn more about interactive tables.';\n",
              "          element.innerHTML = '';\n",
              "          dataTable['output_type'] = 'display_data';\n",
              "          await google.colab.output.renderOutput(dataTable, element);\n",
              "          const docLink = document.createElement('div');\n",
              "          docLink.innerHTML = docLinkHtml;\n",
              "          element.appendChild(docLink);\n",
              "        }\n",
              "      </script>\n",
              "    </div>\n",
              "  </div>\n",
              "  "
            ]
          },
          "metadata": {},
          "execution_count": 10
        }
      ],
      "source": [
        "# Extract best parameters.\n",
        "results[results['MSE'] == results['MSE'].min()]"
      ]
    },
    {
      "cell_type": "code",
      "execution_count": null,
      "metadata": {
        "id": "6juSC75JeCVV",
        "colab": {
          "base_uri": "https://localhost:8080/"
        },
        "outputId": "33220dcb-5446-48de-8753-a4519d1c5dd2"
      },
      "outputs": [
        {
          "output_type": "stream",
          "name": "stdout",
          "text": [
            "Optimized SVM achieved 9.91 MSE.\n"
          ]
        }
      ],
      "source": [
        "# Initialize your final model\n",
        "svm_optimized = svm.SVR(kernel = 'rbf', C = 101, epsilon = 0.4)\n",
        "\n",
        "# Use both training and validation data to fit it (np.concatenate \"stacks\" the array like rbind in R)\n",
        "svm_optimized.fit(np.concatenate([Z_train, Z_val]), np.concatenate([y_train, y_val]))\n",
        "\n",
        "# Predict on test data\n",
        "y_val_hat_optimized = svm_optimized.predict(Z_test)\n",
        "\n",
        "# Obtain and check accuracy on test data\n",
        "accuracy_optimized = mean_squared_error(y_val_hat_optimized, y_test)\n",
        "print(f'Optimized SVM achieved {round(accuracy_optimized, 3)} MSE.')"
      ]
    }
  ],
  "metadata": {
    "kernelspec": {
      "display_name": "Python 3",
      "language": "python",
      "name": "python3"
    },
    "language_info": {
      "codemirror_mode": {
        "name": "ipython",
        "version": 3
      },
      "file_extension": ".py",
      "mimetype": "text/x-python",
      "name": "python",
      "nbconvert_exporter": "python",
      "pygments_lexer": "ipython3",
      "version": "3.7.9"
    },
    "colab": {
      "provenance": [],
      "include_colab_link": true
    },
    "accelerator": "GPU",
    "gpuClass": "standard"
  },
  "nbformat": 4,
  "nbformat_minor": 0
}