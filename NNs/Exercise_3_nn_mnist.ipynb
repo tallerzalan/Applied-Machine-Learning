{
  "cells": [
    {
      "cell_type": "markdown",
      "metadata": {
        "id": "view-in-github",
        "colab_type": "text"
      },
      "source": [
        "<a href=\"https://colab.research.google.com/github/tallerzalan/Applied-Machine-Learning/blob/main/NNs/Exercise_3_nn_mnist.ipynb\" target=\"_parent\"><img src=\"https://colab.research.google.com/assets/colab-badge.svg\" alt=\"Open In Colab\"/></a>"
      ]
    },
    {
      "cell_type": "markdown",
      "metadata": {
        "id": "-SL--iPPoanR"
      },
      "source": [
        "# Exercise - MNIST\n",
        "\n",
        "1. Use the $\\texttt{mnist}$ dataset (as just shown in the slides). Build a neural network using what we have explored so far and evaluate its performance on the test data.\n",
        "1. Explore whether your neural network appears to be under- or overfitting by constructing plots of the train and test losses and accuracies during training. Use this information to improve your model - that is, train for longer if it appears to be underfitting and shorter if it appears to be overfitting. Does your test performance improve? What about your train performance?\n",
        "1. (Bonus): Later during the semester, we will explore *convolutional neural networks*. For those of you finished with (1) and (2), you may try this now to improve your model; check https://www.tensorflow.org/api_docs/python/tf/keras/layers/Conv2D for details.\n",
        "\n",
        "**See slides for more details!**"
      ]
    },
    {
      "cell_type": "markdown",
      "metadata": {
        "id": "DOd5VMfJoanW"
      },
      "source": [
        "# Exercise 1\n",
        "\n",
        "Use the $\\texttt{mnist}$ dataset (as just shown in the slides). Build a neural network using what we have explored so far and evaluate its performance on the test data."
      ]
    },
    {
      "cell_type": "code",
      "source": [
        "import tensorflow as tf\n",
        "from keras.models import Sequential\n",
        "from keras.layers import Activation, Dense, Flatten, Conv2D, MaxPooling2D, Dropout\n",
        "from keras import Input\n",
        "from keras.datasets import mnist\n",
        "from tensorflow.keras.utils import to_categorical\n",
        "\n",
        "from sklearn.model_selection import train_test_split\n",
        "from sklearn.preprocessing import StandardScaler\n",
        "from sklearn.metrics import mean_squared_error\n",
        "\n",
        "import pandas as pd\n",
        "import numpy as np\n",
        "from matplotlib import pyplot as plt\n",
        "\n",
        "seed = 42\n",
        "tf.random.set_seed(seed)"
      ],
      "metadata": {
        "id": "ePaNkOvIpQSh"
      },
      "execution_count": 13,
      "outputs": []
    },
    {
      "cell_type": "code",
      "source": [
        "# Parameters\n",
        "num_classes = 10\n",
        "input_shape = (28, 28, 1)\n",
        "batch_size = 64\n",
        "epochs = 10"
      ],
      "metadata": {
        "id": "qB5GRMfo4b85"
      },
      "execution_count": 14,
      "outputs": []
    },
    {
      "cell_type": "code",
      "source": [
        "# Load the data and split it between train and test sets\n",
        "(X_train, y_train), (X_test, y_test) = mnist.load_data()\n",
        "\n",
        "# Scale images to the [0, 1] range\n",
        "X_train = X_train.astype('float32') / 255\n",
        "X_test = X_test.astype('float32') / 255\n",
        "\n",
        "# Make sure images have shape (28, 28, 1)\n",
        "X_train = np.expand_dims(X_train, -1)\n",
        "X_test = np.expand_dims(X_test, -1)\n",
        "\n",
        "print('X_train shape:', X_train.shape)\n",
        "print(X_train.shape[0], 'train samples')\n",
        "print(X_test.shape[0], 'test samples')\n",
        "\n",
        "# convert class vectors to binary class matrices\n",
        "y_train = to_categorical(y_train, num_classes)\n",
        "y_test = to_categorical(y_test, num_classes)"
      ],
      "metadata": {
        "colab": {
          "base_uri": "https://localhost:8080/"
        },
        "id": "uN8mgTqYwK2F",
        "outputId": "b4a802be-2804-4515-e456-477a4924c7b7"
      },
      "execution_count": 15,
      "outputs": [
        {
          "output_type": "stream",
          "name": "stdout",
          "text": [
            "X_train shape: (60000, 28, 28, 1)\n",
            "60000 train samples\n",
            "10000 test samples\n"
          ]
        }
      ]
    },
    {
      "cell_type": "markdown",
      "metadata": {
        "id": "fpJ7xAIQoanf"
      },
      "source": [
        "Here is a model to get you started.\n",
        "\n",
        "Take note of the \"Flatten\" layer. This is important to reshape your data from (28, 28) to (784,).\n",
        "\n",
        "Alternatively, you could reshape your data (the x's). This can be done using:\n",
        "\n",
        "$\\texttt{x = x.reshape(n, 784)}$ \n",
        "\n",
        "where $n$ is the number of samples (60k for training, 10k for test).\n",
        "\n",
        "Then you don't need the Flatten layer, but remember to still specify an input shape of your first layer (i.e. 784 if you have done this reshaping).\n",
        "\n",
        "**Note**: Do feel free to experiment with the number of layers, nodes per layer, and optimizer."
      ]
    },
    {
      "cell_type": "code",
      "execution_count": 16,
      "metadata": {
        "colab": {
          "base_uri": "https://localhost:8080/"
        },
        "id": "wTOWidv5oang",
        "outputId": "31f85204-653f-499c-8d21-a3f7bcd7324c"
      },
      "outputs": [
        {
          "output_type": "stream",
          "name": "stdout",
          "text": [
            "Model: \"sequential_2\"\n",
            "_________________________________________________________________\n",
            " Layer (type)                Output Shape              Param #   \n",
            "=================================================================\n",
            " flatten_2 (Flatten)         (None, 784)               0         \n",
            "                                                                 \n",
            " dense_3 (Dense)             (None, 128)               100480    \n",
            "                                                                 \n",
            " dense_4 (Dense)             (None, 10)                1290      \n",
            "                                                                 \n",
            "=================================================================\n",
            "Total params: 101,770\n",
            "Trainable params: 101,770\n",
            "Non-trainable params: 0\n",
            "_________________________________________________________________\n",
            "None\n"
          ]
        }
      ],
      "source": [
        "model = Sequential([\n",
        "    Flatten(input_shape = input_shape),\n",
        "    Dense(128, activation = 'relu'),\n",
        "    Dense(num_classes)\n",
        "    ])\n",
        "\n",
        "model.compile(\n",
        "    optimizer = 'adam',\n",
        "    loss = 'categorical_crossentropy',\n",
        "    metrics = ['accuracy']\n",
        "    )\n",
        "\n",
        "print(model.summary())"
      ]
    },
    {
      "cell_type": "code",
      "execution_count": 17,
      "metadata": {
        "colab": {
          "base_uri": "https://localhost:8080/"
        },
        "id": "396-iy5soanh",
        "outputId": "c0336c0d-56c2-4386-c131-ef31b0f9b7cd"
      },
      "outputs": [
        {
          "output_type": "stream",
          "name": "stdout",
          "text": [
            "Epoch 1/10\n",
            "844/844 [==============================] - 3s 3ms/step - loss: 9.0294 - accuracy: 0.1606 - val_loss: 8.8384 - val_accuracy: 0.1417\n",
            "Epoch 2/10\n",
            "844/844 [==============================] - 3s 4ms/step - loss: 9.2324 - accuracy: 0.1564 - val_loss: 9.6497 - val_accuracy: 0.2127\n",
            "Epoch 3/10\n",
            "844/844 [==============================] - 4s 4ms/step - loss: 8.8969 - accuracy: 0.1520 - val_loss: 8.0188 - val_accuracy: 0.1075\n",
            "Epoch 4/10\n",
            "844/844 [==============================] - 3s 3ms/step - loss: 7.8958 - accuracy: 0.1013 - val_loss: 8.0429 - val_accuracy: 0.1083\n",
            "Epoch 5/10\n",
            "844/844 [==============================] - 3s 3ms/step - loss: 8.0701 - accuracy: 0.1016 - val_loss: 8.4029 - val_accuracy: 0.1092\n",
            "Epoch 6/10\n",
            "844/844 [==============================] - 3s 3ms/step - loss: 8.1361 - accuracy: 0.1019 - val_loss: 8.4029 - val_accuracy: 0.1092\n",
            "Epoch 7/10\n",
            "844/844 [==============================] - 3s 3ms/step - loss: 8.1361 - accuracy: 0.1019 - val_loss: 8.4029 - val_accuracy: 0.1092\n",
            "Epoch 8/10\n",
            "844/844 [==============================] - 3s 3ms/step - loss: 8.1360 - accuracy: 0.1019 - val_loss: 8.4029 - val_accuracy: 0.1092\n",
            "Epoch 9/10\n",
            "844/844 [==============================] - 3s 3ms/step - loss: 8.1360 - accuracy: 0.1019 - val_loss: 8.4029 - val_accuracy: 0.1092\n",
            "Epoch 10/10\n",
            "844/844 [==============================] - 3s 3ms/step - loss: 8.1360 - accuracy: 0.1019 - val_loss: 8.4029 - val_accuracy: 0.1092\n"
          ]
        }
      ],
      "source": [
        "history = model.fit(X_train,\n",
        "                    y_train,\n",
        "                    batch_size = batch_size,\n",
        "                    epochs = epochs,\n",
        "                    validation_split = 0.1\n",
        "                    )"
      ]
    },
    {
      "cell_type": "code",
      "execution_count": 18,
      "metadata": {
        "colab": {
          "base_uri": "https://localhost:8080/"
        },
        "id": "Tsw73vjzoani",
        "outputId": "8a595518-925e-4f8e-dcc5-212ba0940231"
      },
      "outputs": [
        {
          "output_type": "stream",
          "name": "stdout",
          "text": [
            "Test Loss: 8.238\n",
            "Test Accuracy: 10.19%\n"
          ]
        }
      ],
      "source": [
        "loss, accuracy = model.evaluate(X_test,\n",
        "                                y_test,\n",
        "                                verbose = 0\n",
        "                                )\n",
        "\n",
        "print(f'Test Loss: {round(loss, 3)}')\n",
        "print(f'Test Accuracy: {round(accuracy*100, 3)}%')"
      ]
    },
    {
      "cell_type": "markdown",
      "metadata": {
        "id": "UK2TAWpioani"
      },
      "source": [
        "Here is a small function you can use as a starting point for your network - but feel free to experiment!"
      ]
    },
    {
      "cell_type": "markdown",
      "metadata": {
        "id": "j9sLDQGvoanj"
      },
      "source": [
        "# Exercise 2\n",
        "\n",
        "Explore whether your neural network appears to be under- or overfitting by constructing plots of the train and test losses and accuracies during training. Use this information to improve your model - that is, train for longer if it appears to be underfitting and shorter if it appears to be overfitting. Does your test performance improve? What about your train performance?"
      ]
    },
    {
      "cell_type": "code",
      "execution_count": 19,
      "metadata": {
        "colab": {
          "base_uri": "https://localhost:8080/",
          "height": 279
        },
        "id": "ixbdPuJEoank",
        "outputId": "f1cb72bf-7f83-4f9d-ae01-9166e2dae929"
      },
      "outputs": [
        {
          "output_type": "display_data",
          "data": {
            "text/plain": [
              "<Figure size 960x288 with 2 Axes>"
            ],
            "image/png": "[encoded data removed]"
          },
          "metadata": {
            "needs_background": "light"
          }
        }
      ],
      "source": [
        "fig = plt.figure(figsize = plt.figaspect(0.3))\n",
        "\n",
        "ax = fig.add_subplot(1, 2, 1)\n",
        "ax.plot(history.history['loss'],\n",
        "        label = 'Train Loss')\n",
        "\n",
        "ax.plot(history.history['val_loss'],\n",
        "        label = 'Test Loss')\n",
        "\n",
        "plt.xlabel('Epoch')\n",
        "plt.ylabel('Loss')\n",
        "plt.legend()\n",
        "\n",
        "ax = fig.add_subplot(1, 2, 2)\n",
        "ax.plot(history.history['accuracy'],\n",
        "        label = 'Train Accuracy')\n",
        "\n",
        "ax.plot(history.history['val_accuracy'],\n",
        "        label = 'Test Accuracy')\n",
        "\n",
        "plt.xlabel('Epoch')\n",
        "plt.ylabel('Accuracy')\n",
        "plt.legend()\n",
        "\n",
        "plt.show()"
      ]
    },
    {
      "cell_type": "markdown",
      "metadata": {
        "id": "vBSwS7Mtoanl"
      },
      "source": [
        "# Exericse 3\n",
        "\n",
        "Later during the semester, we will explore *convolutional neural networks*. For those of you finished with (1) and (2), you may try this now to improve your model; check https://www.tensorflow.org/api_docs/python/tf/keras/layers/Conv2D for details."
      ]
    },
    {
      "cell_type": "code",
      "execution_count": 20,
      "metadata": {
        "colab": {
          "base_uri": "https://localhost:8080/"
        },
        "id": "8ZjybMtooanm",
        "outputId": "44e35526-c83a-442f-f2a2-d5631223ef40"
      },
      "outputs": [
        {
          "output_type": "stream",
          "name": "stdout",
          "text": [
            "Model: \"sequential_2\"\n",
            "_________________________________________________________________\n",
            " Layer (type)                Output Shape              Param #   \n",
            "=================================================================\n",
            " flatten_2 (Flatten)         (None, 784)               0         \n",
            "                                                                 \n",
            " dense_3 (Dense)             (None, 128)               100480    \n",
            "                                                                 \n",
            " dense_4 (Dense)             (None, 10)                1290      \n",
            "                                                                 \n",
            "=================================================================\n",
            "Total params: 101,770\n",
            "Trainable params: 101,770\n",
            "Non-trainable params: 0\n",
            "_________________________________________________________________\n"
          ]
        }
      ],
      "source": [
        "model_cnn = Sequential([\n",
        "    Input(shape = input_shape),\n",
        "    Conv2D(32, kernel_size = (3, 3), activation = 'relu'),\n",
        "    MaxPooling2D(pool_size = (2, 2)),\n",
        "    Conv2D(64, kernel_size = (3, 3), activation = 'relu'),\n",
        "    MaxPooling2D(pool_size = (2, 2)),\n",
        "    Flatten(),\n",
        "    Dropout(0.5),\n",
        "    Dense(num_classes, activation = 'softmax')\n",
        "    ])\n",
        "\n",
        "model.summary()"
      ]
    },
    {
      "cell_type": "code",
      "source": [
        "model_cnn.compile(\n",
        "    optimizer = 'adam',\n",
        "    loss = 'categorical_crossentropy',\n",
        "    metrics = ['accuracy']\n",
        "    )\n",
        "\n",
        "history = model_cnn.fit(X_train,\n",
        "                        y_train,\n",
        "                        batch_size = batch_size,\n",
        "                        epochs = epochs,\n",
        "                        validation_split = 0.1\n",
        "                        )"
      ],
      "metadata": {
        "colab": {
          "base_uri": "https://localhost:8080/"
        },
        "id": "xi5m3o663vqP",
        "outputId": "ed9ac2e4-38e5-49a0-8ec3-18d5ab9f4cd6"
      },
      "execution_count": 21,
      "outputs": [
        {
          "output_type": "stream",
          "name": "stdout",
          "text": [
            "Epoch 1/10\n",
            "844/844 [==============================] - 4s 5ms/step - loss: 0.2855 - accuracy: 0.9134 - val_loss: 0.0679 - val_accuracy: 0.9807\n",
            "Epoch 2/10\n",
            "844/844 [==============================] - 3s 4ms/step - loss: 0.0970 - accuracy: 0.9708 - val_loss: 0.0552 - val_accuracy: 0.9850\n",
            "Epoch 3/10\n",
            "844/844 [==============================] - 4s 4ms/step - loss: 0.0733 - accuracy: 0.9776 - val_loss: 0.0422 - val_accuracy: 0.9887\n",
            "Epoch 4/10\n",
            "844/844 [==============================] - 5s 6ms/step - loss: 0.0637 - accuracy: 0.9796 - val_loss: 0.0381 - val_accuracy: 0.9898\n",
            "Epoch 5/10\n",
            "844/844 [==============================] - 3s 4ms/step - loss: 0.0549 - accuracy: 0.9829 - val_loss: 0.0392 - val_accuracy: 0.9890\n",
            "Epoch 6/10\n",
            "844/844 [==============================] - 3s 4ms/step - loss: 0.0506 - accuracy: 0.9841 - val_loss: 0.0338 - val_accuracy: 0.9917\n",
            "Epoch 7/10\n",
            "844/844 [==============================] - 3s 4ms/step - loss: 0.0463 - accuracy: 0.9851 - val_loss: 0.0350 - val_accuracy: 0.9902\n",
            "Epoch 8/10\n",
            "844/844 [==============================] - 4s 5ms/step - loss: 0.0421 - accuracy: 0.9866 - val_loss: 0.0346 - val_accuracy: 0.9903\n",
            "Epoch 9/10\n",
            "844/844 [==============================] - 3s 4ms/step - loss: 0.0407 - accuracy: 0.9866 - val_loss: 0.0340 - val_accuracy: 0.9912\n",
            "Epoch 10/10\n",
            "844/844 [==============================] - 3s 4ms/step - loss: 0.0366 - accuracy: 0.9878 - val_loss: 0.0325 - val_accuracy: 0.9917\n"
          ]
        }
      ]
    },
    {
      "cell_type": "code",
      "source": [
        "loss, accuracy = model_cnn.evaluate(X_test,\n",
        "                                y_test,\n",
        "                                verbose = 0\n",
        "                                )\n",
        "\n",
        "print(f'Test Loss: {round(loss, 3)}')\n",
        "print(f'Test Accuracy: {round(accuracy*100, 3)}%')"
      ],
      "metadata": {
        "colab": {
          "base_uri": "https://localhost:8080/"
        },
        "id": "LIivw3o_42oB",
        "outputId": "bdd4b16b-d355-40fd-c0fb-032c63226484"
      },
      "execution_count": 22,
      "outputs": [
        {
          "output_type": "stream",
          "name": "stdout",
          "text": [
            "Test Loss: 0.024\n",
            "Test Accuracy: 99.13%\n"
          ]
        }
      ]
    },
    {
      "cell_type": "code",
      "source": [
        "fig = plt.figure(figsize = plt.figaspect(0.3))\n",
        "\n",
        "ax = fig.add_subplot(1, 2, 1)\n",
        "ax.plot(history.history['loss'],\n",
        "        label = 'Train Loss')\n",
        "\n",
        "ax.plot(history.history['val_loss'],\n",
        "        label = 'Test Loss')\n",
        "\n",
        "plt.xlabel('Epoch')\n",
        "plt.ylabel('Loss')\n",
        "plt.legend()\n",
        "\n",
        "ax = fig.add_subplot(1, 2, 2)\n",
        "ax.plot(history.history['accuracy'],\n",
        "        label = 'Train Accuracy')\n",
        "\n",
        "ax.plot(history.history['val_accuracy'],\n",
        "        label = 'Test Accuracy')\n",
        "\n",
        "plt.xlabel('Epoch')\n",
        "plt.ylabel('Accuracy')\n",
        "plt.legend()\n",
        "\n",
        "plt.show()"
      ],
      "metadata": {
        "colab": {
          "base_uri": "https://localhost:8080/",
          "height": 279
        },
        "id": "QlnAWXIh55v8",
        "outputId": "803dbe7a-1d08-494d-b13c-b1b573ac45ac"
      },
      "execution_count": 23,
      "outputs": [
        {
          "output_type": "display_data",
          "data": {
            "text/plain": [
              "<Figure size 960x288 with 2 Axes>"
            ],
            "image/png": "[encoded data removed]"
          },
          "metadata": {
            "needs_background": "light"
          }
        }
      ]
    },
    {
      "cell_type": "code",
      "source": [],
      "metadata": {
        "id": "BRca6Ra0591g"
      },
      "execution_count": 23,
      "outputs": []
    }
  ],
  "metadata": {
    "kernelspec": {
      "display_name": "Python 3 (ipykernel)",
      "language": "python",
      "name": "python3"
    },
    "language_info": {
      "codemirror_mode": {
        "name": "ipython",
        "version": 3
      },
      "file_extension": ".py",
      "mimetype": "text/x-python",
      "name": "python",
      "nbconvert_exporter": "python",
      "pygments_lexer": "ipython3",
      "version": "3.9.7"
    },
    "colab": {
      "provenance": [],
      "collapsed_sections": [],
      "include_colab_link": true
    },
    "accelerator": "GPU"
  },
  "nbformat": 4,
  "nbformat_minor": 0
}