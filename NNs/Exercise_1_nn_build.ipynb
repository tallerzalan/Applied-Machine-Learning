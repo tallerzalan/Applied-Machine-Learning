{
  "cells": [
    {
      "cell_type": "markdown",
      "metadata": {
        "id": "view-in-github",
        "colab_type": "text"
      },
      "source": [
        "<a href=\"https://colab.research.google.com/github/tallerzalan/Applied-Machine-Learning/blob/main/NNs/Exercise_1_nn_build.ipynb\" target=\"_parent\"><img src=\"https://colab.research.google.com/assets/colab-badge.svg\" alt=\"Open In Colab\"/></a>"
      ]
    },
    {
      "cell_type": "markdown",
      "metadata": {
        "id": "dQfwrdE3nHJ_"
      },
      "source": [
        "# Exercise - building neural networks using TensorFlow\n",
        "\n",
        "1. Start by replicating the neural network in the slides (not the training - building it and using the method $\\texttt{.summary}$. You can see the number of parameters in each layer. Can you relate this to the number of features, the number of hidden nodes, and the number of output nodes?\n",
        "2. Do you believe the model has too many parameters? Too few? Try to change the number of parameters (in whichever direction you believe is best) and then train the model on the breast cancer data. Is your model better than the one in the slides? **Bonus**: try also to change the number of epochs you train for, as well as anything else you might want to experiment with.\n",
        "\n",
        "**Note**: The number of epochs is the number of times the neural network sees each observation. In the above example, each observation is shown 5 times.\n",
        "\n",
        "**See slides for more details!**"
      ]
    },
    {
      "cell_type": "markdown",
      "metadata": {
        "id": "KS7gDGR6nHKE"
      },
      "source": [
        "# Exercise 1\n",
        "\n",
        "Start by replicating the neural network in the slides (not the training - building it and using the method $\\texttt{.summary}$. You can see the number of parameters in each layer. Can you relate this to the number of features, the number of hidden nodes, and the number of output nodes?"
      ]
    },
    {
      "cell_type": "code",
      "source": [
        "import tensorflow as tf\n",
        "from keras.models import Sequential\n",
        "from keras.layers import Activation, Dense\n",
        "from tensorflow.keras.optimizers import SGD\n",
        "from sklearn.datasets import load_breast_cancer\n",
        "from sklearn.model_selection import train_test_split\n",
        "from sklearn.preprocessing import StandardScaler\n",
        "\n",
        "from matplotlib import pyplot as plt\n",
        "\n",
        "seed = 42\n",
        "tf.random.set_seed(seed)"
      ],
      "metadata": {
        "id": "GN6n5vHUeA5n"
      },
      "execution_count": 104,
      "outputs": []
    },
    {
      "cell_type": "code",
      "execution_count": 105,
      "metadata": {
        "colab": {
          "base_uri": "https://localhost:8080/"
        },
        "id": "RPdMnJqdnHKG",
        "outputId": "25b05da2-f862-44da-c593-7a594afcda22"
      },
      "outputs": [
        {
          "output_type": "stream",
          "name": "stdout",
          "text": [
            "Model: \"sequential_30\"\n",
            "_________________________________________________________________\n",
            " Layer (type)                Output Shape              Param #   \n",
            "=================================================================\n",
            " dense_82 (Dense)            (None, 64)                1984      \n",
            "                                                                 \n",
            " dense_83 (Dense)            (None, 128)               8320      \n",
            "                                                                 \n",
            " dense_84 (Dense)            (None, 2)                 258       \n",
            "                                                                 \n",
            "=================================================================\n",
            "Total params: 10,562\n",
            "Trainable params: 10,562\n",
            "Non-trainable params: 0\n",
            "_________________________________________________________________\n"
          ]
        }
      ],
      "source": [
        "my_nn = Sequential([\n",
        "    Dense(64, activation = 'relu', input_shape = (30,)), # input shape required in the first layer\n",
        "    Dense(128, activation = 'relu'), # map 64 to 128 features and apply ReLU\n",
        "    Dense(2, activation = 'softmax') # softmax is used for classification\n",
        "    ])\n",
        "\n",
        "my_nn.summary()"
      ]
    },
    {
      "cell_type": "markdown",
      "metadata": {
        "id": "hQo-nAp2nHKJ"
      },
      "source": [
        "# Exercise 2\n",
        "\n",
        "Do you believe the model has too many parameters? Too few? Try to change the number of parameters (in whichever direction you believe is best) and then train the model on the breast cancer data. Is your model better than the one in the slides? **Bonus**: try also to change the number of epochs you train for, as well as anything else you might want to experiment with."
      ]
    },
    {
      "cell_type": "code",
      "execution_count": 106,
      "metadata": {
        "colab": {
          "base_uri": "https://localhost:8080/"
        },
        "id": "gWId-qixnHKK",
        "outputId": "ca9bd17d-86c4-4527-a7b4-630ee728ddba"
      },
      "outputs": [
        {
          "output_type": "stream",
          "name": "stdout",
          "text": [
            "(455, 30) (114, 30) (455,) (114,)\n"
          ]
        }
      ],
      "source": [
        "# Use the `load_breast_cancer` function to construct your dataset\n",
        "X, y = load_breast_cancer(return_X_y = True)\n",
        "\n",
        "# Use `train_test_split` to split your data into a train and a test set.\n",
        "X_train, X_test, y_train, y_test = train_test_split(X,\n",
        "                                                    y,\n",
        "                                                    test_size = 0.2,\n",
        "                                                    random_state = seed)\n",
        "\n",
        "print(X_train.shape, X_test.shape, y_train.shape, y_test.shape)\n",
        "\n",
        "# Scale the data\n",
        "scaler = StandardScaler()\n",
        "Z_train = scaler.fit_transform(X_train)\n",
        "Z_test = scaler.transform(X_test)"
      ]
    },
    {
      "cell_type": "code",
      "execution_count": 107,
      "metadata": {
        "id": "gieWpErBnHKL",
        "colab": {
          "base_uri": "https://localhost:8080/"
        },
        "outputId": "80ae5aa2-0bb8-4201-8a10-f1348dbd4165"
      },
      "outputs": [
        {
          "output_type": "stream",
          "name": "stdout",
          "text": [
            "Model: \"sequential_31\"\n",
            "_________________________________________________________________\n",
            " Layer (type)                Output Shape              Param #   \n",
            "=================================================================\n",
            " dense_85 (Dense)            (None, 32)                992       \n",
            "                                                                 \n",
            " activation_32 (Activation)  (None, 32)                0         \n",
            "                                                                 \n",
            " dense_86 (Dense)            (None, 64)                2112      \n",
            "                                                                 \n",
            " activation_33 (Activation)  (None, 64)                0         \n",
            "                                                                 \n",
            " dense_87 (Dense)            (None, 32)                2080      \n",
            "                                                                 \n",
            " activation_34 (Activation)  (None, 32)                0         \n",
            "                                                                 \n",
            " dense_88 (Dense)            (None, 1)                 33        \n",
            "                                                                 \n",
            " activation_35 (Activation)  (None, 1)                 0         \n",
            "                                                                 \n",
            "=================================================================\n",
            "Total params: 5,217\n",
            "Trainable params: 5,217\n",
            "Non-trainable params: 0\n",
            "_________________________________________________________________\n"
          ]
        }
      ],
      "source": [
        "# Build your own, new neural network here\n",
        "model = Sequential()\n",
        "\n",
        "# Keras model with two hidden layer with 10 neurons each \n",
        "model.add(Dense(32, input_shape = (30,)))    # Input layer => input_shape should be explicitly designated\n",
        "model.add(Activation('sigmoid'))\n",
        "model.add(Dense(64))                         # Hidden layer => only output dimension should be designated\n",
        "model.add(Activation('sigmoid'))\n",
        "model.add(Dense(32))                         # Hidden layer => only output dimension should be designated\n",
        "model.add(Activation('sigmoid'))\n",
        "model.add(Dense(1))                          # Output layer => output dimension = 1 since it is regression problem\n",
        "model.add(Activation('sigmoid'))\n",
        "\n",
        "model.summary()"
      ]
    },
    {
      "cell_type": "code",
      "execution_count": 108,
      "metadata": {
        "id": "xYMPTCbHnHKM",
        "colab": {
          "base_uri": "https://localhost:8080/"
        },
        "outputId": "b3bb1f25-02e2-46b4-f06b-3ba78789c6b4"
      },
      "outputs": [
        {
          "output_type": "stream",
          "name": "stdout",
          "text": [
            "Epoch 1/100\n",
            "15/15 [==============================] - 1s 14ms/step - loss: 0.6616 - accuracy: 0.6286 - val_loss: 0.6540 - val_accuracy: 0.6228\n",
            "Epoch 2/100\n",
            "15/15 [==============================] - 0s 5ms/step - loss: 0.6432 - accuracy: 0.6286 - val_loss: 0.6304 - val_accuracy: 0.6228\n",
            "Epoch 3/100\n",
            "15/15 [==============================] - 0s 6ms/step - loss: 0.6164 - accuracy: 0.6286 - val_loss: 0.5975 - val_accuracy: 0.6228\n",
            "Epoch 4/100\n",
            "15/15 [==============================] - 0s 5ms/step - loss: 0.5800 - accuracy: 0.6462 - val_loss: 0.5437 - val_accuracy: 0.7105\n",
            "Epoch 5/100\n",
            "15/15 [==============================] - 0s 5ms/step - loss: 0.5192 - accuracy: 0.7055 - val_loss: 0.4676 - val_accuracy: 0.8070\n",
            "Epoch 6/100\n",
            "15/15 [==============================] - 0s 6ms/step - loss: 0.4400 - accuracy: 0.8725 - val_loss: 0.3732 - val_accuracy: 0.9298\n",
            "Epoch 7/100\n",
            "15/15 [==============================] - 0s 5ms/step - loss: 0.3522 - accuracy: 0.9253 - val_loss: 0.2860 - val_accuracy: 0.9474\n",
            "Epoch 8/100\n",
            "15/15 [==============================] - 0s 5ms/step - loss: 0.2778 - accuracy: 0.9253 - val_loss: 0.2148 - val_accuracy: 0.9561\n",
            "Epoch 9/100\n",
            "15/15 [==============================] - 0s 5ms/step - loss: 0.2203 - accuracy: 0.9407 - val_loss: 0.1682 - val_accuracy: 0.9649\n",
            "Epoch 10/100\n",
            "15/15 [==============================] - 0s 6ms/step - loss: 0.1826 - accuracy: 0.9538 - val_loss: 0.1371 - val_accuracy: 0.9825\n",
            "Epoch 11/100\n",
            "15/15 [==============================] - 0s 5ms/step - loss: 0.1528 - accuracy: 0.9626 - val_loss: 0.1162 - val_accuracy: 0.9912\n",
            "Epoch 12/100\n",
            "15/15 [==============================] - 0s 6ms/step - loss: 0.1326 - accuracy: 0.9670 - val_loss: 0.1020 - val_accuracy: 0.9912\n",
            "Epoch 13/100\n",
            "15/15 [==============================] - 0s 4ms/step - loss: 0.1185 - accuracy: 0.9692 - val_loss: 0.0916 - val_accuracy: 0.9912\n",
            "Epoch 14/100\n",
            "15/15 [==============================] - 0s 5ms/step - loss: 0.1073 - accuracy: 0.9736 - val_loss: 0.0842 - val_accuracy: 0.9912\n",
            "Epoch 15/100\n",
            "15/15 [==============================] - 0s 5ms/step - loss: 0.0991 - accuracy: 0.9736 - val_loss: 0.0786 - val_accuracy: 0.9912\n",
            "Epoch 16/100\n",
            "15/15 [==============================] - 0s 4ms/step - loss: 0.0923 - accuracy: 0.9802 - val_loss: 0.0751 - val_accuracy: 0.9912\n",
            "Epoch 17/100\n",
            "15/15 [==============================] - 0s 5ms/step - loss: 0.0869 - accuracy: 0.9802 - val_loss: 0.0717 - val_accuracy: 0.9912\n",
            "Epoch 18/100\n",
            "15/15 [==============================] - 0s 5ms/step - loss: 0.0824 - accuracy: 0.9802 - val_loss: 0.0689 - val_accuracy: 0.9912\n",
            "Epoch 19/100\n",
            "15/15 [==============================] - 0s 4ms/step - loss: 0.0789 - accuracy: 0.9846 - val_loss: 0.0677 - val_accuracy: 0.9912\n",
            "Epoch 20/100\n",
            "15/15 [==============================] - 0s 4ms/step - loss: 0.0754 - accuracy: 0.9868 - val_loss: 0.0651 - val_accuracy: 0.9912\n",
            "Epoch 21/100\n",
            "15/15 [==============================] - 0s 6ms/step - loss: 0.0733 - accuracy: 0.9824 - val_loss: 0.0642 - val_accuracy: 0.9912\n",
            "Epoch 22/100\n",
            "15/15 [==============================] - 0s 6ms/step - loss: 0.0711 - accuracy: 0.9868 - val_loss: 0.0632 - val_accuracy: 0.9912\n",
            "Epoch 23/100\n",
            "15/15 [==============================] - 0s 7ms/step - loss: 0.0685 - accuracy: 0.9868 - val_loss: 0.0615 - val_accuracy: 0.9912\n",
            "Epoch 24/100\n",
            "15/15 [==============================] - 0s 5ms/step - loss: 0.0675 - accuracy: 0.9846 - val_loss: 0.0604 - val_accuracy: 0.9912\n",
            "Epoch 25/100\n",
            "15/15 [==============================] - 0s 4ms/step - loss: 0.0655 - accuracy: 0.9868 - val_loss: 0.0603 - val_accuracy: 0.9912\n",
            "Epoch 26/100\n",
            "15/15 [==============================] - 0s 5ms/step - loss: 0.0638 - accuracy: 0.9868 - val_loss: 0.0595 - val_accuracy: 0.9912\n",
            "Epoch 27/100\n",
            "15/15 [==============================] - 0s 5ms/step - loss: 0.0642 - accuracy: 0.9846 - val_loss: 0.0617 - val_accuracy: 0.9737\n",
            "Epoch 28/100\n",
            "15/15 [==============================] - 0s 4ms/step - loss: 0.0615 - accuracy: 0.9846 - val_loss: 0.0594 - val_accuracy: 0.9912\n",
            "Epoch 29/100\n",
            "15/15 [==============================] - 0s 4ms/step - loss: 0.0606 - accuracy: 0.9868 - val_loss: 0.0572 - val_accuracy: 0.9912\n",
            "Epoch 30/100\n",
            "15/15 [==============================] - 0s 5ms/step - loss: 0.0600 - accuracy: 0.9868 - val_loss: 0.0567 - val_accuracy: 0.9912\n",
            "Epoch 31/100\n",
            "15/15 [==============================] - 0s 5ms/step - loss: 0.0584 - accuracy: 0.9868 - val_loss: 0.0570 - val_accuracy: 0.9912\n",
            "Epoch 32/100\n",
            "15/15 [==============================] - 0s 4ms/step - loss: 0.0574 - accuracy: 0.9846 - val_loss: 0.0579 - val_accuracy: 0.9825\n",
            "Epoch 33/100\n",
            "15/15 [==============================] - 0s 4ms/step - loss: 0.0570 - accuracy: 0.9868 - val_loss: 0.0566 - val_accuracy: 0.9825\n",
            "Epoch 34/100\n",
            "15/15 [==============================] - 0s 5ms/step - loss: 0.0555 - accuracy: 0.9846 - val_loss: 0.0564 - val_accuracy: 0.9825\n",
            "Epoch 35/100\n",
            "15/15 [==============================] - 0s 4ms/step - loss: 0.0557 - accuracy: 0.9846 - val_loss: 0.0564 - val_accuracy: 0.9825\n",
            "Epoch 36/100\n",
            "15/15 [==============================] - 0s 4ms/step - loss: 0.0555 - accuracy: 0.9868 - val_loss: 0.0551 - val_accuracy: 0.9912\n",
            "Epoch 37/100\n",
            "15/15 [==============================] - 0s 5ms/step - loss: 0.0543 - accuracy: 0.9868 - val_loss: 0.0575 - val_accuracy: 0.9825\n",
            "Epoch 38/100\n",
            "15/15 [==============================] - 0s 5ms/step - loss: 0.0530 - accuracy: 0.9846 - val_loss: 0.0570 - val_accuracy: 0.9825\n",
            "Epoch 39/100\n",
            "15/15 [==============================] - 0s 5ms/step - loss: 0.0542 - accuracy: 0.9868 - val_loss: 0.0536 - val_accuracy: 0.9912\n",
            "Epoch 40/100\n",
            "15/15 [==============================] - 0s 6ms/step - loss: 0.0518 - accuracy: 0.9868 - val_loss: 0.0548 - val_accuracy: 0.9825\n",
            "Epoch 41/100\n",
            "15/15 [==============================] - 0s 4ms/step - loss: 0.0510 - accuracy: 0.9846 - val_loss: 0.0567 - val_accuracy: 0.9825\n",
            "Epoch 42/100\n",
            "15/15 [==============================] - 0s 6ms/step - loss: 0.0501 - accuracy: 0.9846 - val_loss: 0.0559 - val_accuracy: 0.9825\n",
            "Epoch 43/100\n",
            "15/15 [==============================] - 0s 5ms/step - loss: 0.0496 - accuracy: 0.9868 - val_loss: 0.0551 - val_accuracy: 0.9825\n",
            "Epoch 44/100\n",
            "15/15 [==============================] - 0s 5ms/step - loss: 0.0498 - accuracy: 0.9890 - val_loss: 0.0562 - val_accuracy: 0.9825\n",
            "Epoch 45/100\n",
            "15/15 [==============================] - 0s 4ms/step - loss: 0.0490 - accuracy: 0.9868 - val_loss: 0.0571 - val_accuracy: 0.9825\n",
            "Epoch 46/100\n",
            "15/15 [==============================] - 0s 5ms/step - loss: 0.0490 - accuracy: 0.9846 - val_loss: 0.0618 - val_accuracy: 0.9825\n",
            "Epoch 47/100\n",
            "15/15 [==============================] - 0s 5ms/step - loss: 0.0492 - accuracy: 0.9868 - val_loss: 0.0588 - val_accuracy: 0.9825\n",
            "Epoch 48/100\n",
            "15/15 [==============================] - 0s 5ms/step - loss: 0.0468 - accuracy: 0.9868 - val_loss: 0.0572 - val_accuracy: 0.9825\n",
            "Epoch 49/100\n",
            "15/15 [==============================] - 0s 4ms/step - loss: 0.0466 - accuracy: 0.9890 - val_loss: 0.0578 - val_accuracy: 0.9825\n",
            "Epoch 50/100\n",
            "15/15 [==============================] - 0s 5ms/step - loss: 0.0461 - accuracy: 0.9890 - val_loss: 0.0582 - val_accuracy: 0.9825\n",
            "Epoch 51/100\n",
            "15/15 [==============================] - 0s 5ms/step - loss: 0.0467 - accuracy: 0.9846 - val_loss: 0.0600 - val_accuracy: 0.9825\n",
            "Epoch 52/100\n",
            "15/15 [==============================] - 0s 5ms/step - loss: 0.0458 - accuracy: 0.9890 - val_loss: 0.0580 - val_accuracy: 0.9825\n",
            "Epoch 53/100\n",
            "15/15 [==============================] - 0s 4ms/step - loss: 0.0451 - accuracy: 0.9868 - val_loss: 0.0592 - val_accuracy: 0.9825\n",
            "Epoch 54/100\n",
            "15/15 [==============================] - 0s 5ms/step - loss: 0.0453 - accuracy: 0.9868 - val_loss: 0.0598 - val_accuracy: 0.9825\n",
            "Epoch 55/100\n",
            "15/15 [==============================] - 0s 5ms/step - loss: 0.0451 - accuracy: 0.9890 - val_loss: 0.0579 - val_accuracy: 0.9825\n",
            "Epoch 56/100\n",
            "15/15 [==============================] - 0s 4ms/step - loss: 0.0439 - accuracy: 0.9890 - val_loss: 0.0598 - val_accuracy: 0.9825\n",
            "Epoch 57/100\n",
            "15/15 [==============================] - 0s 5ms/step - loss: 0.0445 - accuracy: 0.9890 - val_loss: 0.0582 - val_accuracy: 0.9825\n",
            "Epoch 58/100\n",
            "15/15 [==============================] - 0s 5ms/step - loss: 0.0452 - accuracy: 0.9868 - val_loss: 0.0618 - val_accuracy: 0.9825\n",
            "Epoch 59/100\n",
            "15/15 [==============================] - 0s 4ms/step - loss: 0.0427 - accuracy: 0.9912 - val_loss: 0.0614 - val_accuracy: 0.9825\n",
            "Epoch 60/100\n",
            "15/15 [==============================] - 0s 5ms/step - loss: 0.0431 - accuracy: 0.9890 - val_loss: 0.0627 - val_accuracy: 0.9825\n",
            "Epoch 61/100\n",
            "15/15 [==============================] - 0s 6ms/step - loss: 0.0422 - accuracy: 0.9890 - val_loss: 0.0632 - val_accuracy: 0.9825\n",
            "Epoch 62/100\n",
            "15/15 [==============================] - 0s 5ms/step - loss: 0.0416 - accuracy: 0.9912 - val_loss: 0.0619 - val_accuracy: 0.9825\n",
            "Epoch 63/100\n",
            "15/15 [==============================] - 0s 5ms/step - loss: 0.0415 - accuracy: 0.9912 - val_loss: 0.0638 - val_accuracy: 0.9825\n",
            "Epoch 64/100\n",
            "15/15 [==============================] - 0s 5ms/step - loss: 0.0429 - accuracy: 0.9868 - val_loss: 0.0706 - val_accuracy: 0.9825\n",
            "Epoch 65/100\n",
            "15/15 [==============================] - 0s 4ms/step - loss: 0.0410 - accuracy: 0.9912 - val_loss: 0.0666 - val_accuracy: 0.9825\n",
            "Epoch 66/100\n",
            "15/15 [==============================] - 0s 4ms/step - loss: 0.0405 - accuracy: 0.9912 - val_loss: 0.0668 - val_accuracy: 0.9825\n",
            "Epoch 67/100\n",
            "15/15 [==============================] - 0s 5ms/step - loss: 0.0399 - accuracy: 0.9912 - val_loss: 0.0667 - val_accuracy: 0.9825\n",
            "Epoch 68/100\n",
            "15/15 [==============================] - 0s 5ms/step - loss: 0.0395 - accuracy: 0.9912 - val_loss: 0.0675 - val_accuracy: 0.9825\n",
            "Epoch 69/100\n",
            "15/15 [==============================] - 0s 7ms/step - loss: 0.0393 - accuracy: 0.9912 - val_loss: 0.0675 - val_accuracy: 0.9825\n",
            "Epoch 70/100\n",
            "15/15 [==============================] - 0s 5ms/step - loss: 0.0392 - accuracy: 0.9890 - val_loss: 0.0676 - val_accuracy: 0.9825\n",
            "Epoch 71/100\n",
            "15/15 [==============================] - 0s 5ms/step - loss: 0.0382 - accuracy: 0.9912 - val_loss: 0.0663 - val_accuracy: 0.9825\n",
            "Epoch 72/100\n",
            "15/15 [==============================] - 0s 4ms/step - loss: 0.0382 - accuracy: 0.9912 - val_loss: 0.0665 - val_accuracy: 0.9825\n",
            "Epoch 73/100\n",
            "15/15 [==============================] - 0s 7ms/step - loss: 0.0382 - accuracy: 0.9912 - val_loss: 0.0671 - val_accuracy: 0.9825\n",
            "Epoch 74/100\n",
            "15/15 [==============================] - 0s 6ms/step - loss: 0.0380 - accuracy: 0.9912 - val_loss: 0.0689 - val_accuracy: 0.9825\n",
            "Epoch 75/100\n",
            "15/15 [==============================] - 0s 4ms/step - loss: 0.0370 - accuracy: 0.9912 - val_loss: 0.0677 - val_accuracy: 0.9825\n",
            "Epoch 76/100\n",
            "15/15 [==============================] - 0s 5ms/step - loss: 0.0386 - accuracy: 0.9912 - val_loss: 0.0675 - val_accuracy: 0.9825\n",
            "Epoch 77/100\n",
            "15/15 [==============================] - 0s 5ms/step - loss: 0.0370 - accuracy: 0.9912 - val_loss: 0.0695 - val_accuracy: 0.9825\n",
            "Epoch 78/100\n",
            "15/15 [==============================] - 0s 5ms/step - loss: 0.0367 - accuracy: 0.9890 - val_loss: 0.0724 - val_accuracy: 0.9825\n",
            "Epoch 79/100\n",
            "15/15 [==============================] - 0s 5ms/step - loss: 0.0365 - accuracy: 0.9890 - val_loss: 0.0715 - val_accuracy: 0.9825\n",
            "Epoch 80/100\n",
            "15/15 [==============================] - 0s 5ms/step - loss: 0.0357 - accuracy: 0.9912 - val_loss: 0.0697 - val_accuracy: 0.9825\n",
            "Epoch 81/100\n",
            "15/15 [==============================] - 0s 5ms/step - loss: 0.0364 - accuracy: 0.9934 - val_loss: 0.0699 - val_accuracy: 0.9825\n",
            "Epoch 82/100\n",
            "15/15 [==============================] - 0s 5ms/step - loss: 0.0358 - accuracy: 0.9890 - val_loss: 0.0736 - val_accuracy: 0.9825\n",
            "Epoch 83/100\n",
            "15/15 [==============================] - 0s 6ms/step - loss: 0.0358 - accuracy: 0.9912 - val_loss: 0.0716 - val_accuracy: 0.9825\n",
            "Epoch 84/100\n",
            "15/15 [==============================] - 0s 4ms/step - loss: 0.0352 - accuracy: 0.9890 - val_loss: 0.0746 - val_accuracy: 0.9825\n",
            "Epoch 85/100\n",
            "15/15 [==============================] - 0s 5ms/step - loss: 0.0346 - accuracy: 0.9934 - val_loss: 0.0721 - val_accuracy: 0.9825\n",
            "Epoch 86/100\n",
            "15/15 [==============================] - 0s 5ms/step - loss: 0.0341 - accuracy: 0.9934 - val_loss: 0.0742 - val_accuracy: 0.9825\n",
            "Epoch 87/100\n",
            "15/15 [==============================] - 0s 6ms/step - loss: 0.0341 - accuracy: 0.9934 - val_loss: 0.0747 - val_accuracy: 0.9825\n",
            "Epoch 88/100\n",
            "15/15 [==============================] - 0s 5ms/step - loss: 0.0340 - accuracy: 0.9912 - val_loss: 0.0767 - val_accuracy: 0.9825\n",
            "Epoch 89/100\n",
            "15/15 [==============================] - 0s 5ms/step - loss: 0.0330 - accuracy: 0.9890 - val_loss: 0.0745 - val_accuracy: 0.9825\n",
            "Epoch 90/100\n",
            "15/15 [==============================] - 0s 5ms/step - loss: 0.0332 - accuracy: 0.9934 - val_loss: 0.0755 - val_accuracy: 0.9825\n",
            "Epoch 91/100\n",
            "15/15 [==============================] - 0s 5ms/step - loss: 0.0329 - accuracy: 0.9934 - val_loss: 0.0750 - val_accuracy: 0.9825\n",
            "Epoch 92/100\n",
            "15/15 [==============================] - 0s 5ms/step - loss: 0.0327 - accuracy: 0.9934 - val_loss: 0.0772 - val_accuracy: 0.9825\n",
            "Epoch 93/100\n",
            "15/15 [==============================] - 0s 5ms/step - loss: 0.0338 - accuracy: 0.9934 - val_loss: 0.0755 - val_accuracy: 0.9825\n",
            "Epoch 94/100\n",
            "15/15 [==============================] - 0s 5ms/step - loss: 0.0328 - accuracy: 0.9912 - val_loss: 0.0778 - val_accuracy: 0.9825\n",
            "Epoch 95/100\n",
            "15/15 [==============================] - 0s 5ms/step - loss: 0.0323 - accuracy: 0.9934 - val_loss: 0.0782 - val_accuracy: 0.9825\n",
            "Epoch 96/100\n",
            "15/15 [==============================] - 0s 5ms/step - loss: 0.0318 - accuracy: 0.9934 - val_loss: 0.0791 - val_accuracy: 0.9825\n",
            "Epoch 97/100\n",
            "15/15 [==============================] - 0s 6ms/step - loss: 0.0317 - accuracy: 0.9912 - val_loss: 0.0800 - val_accuracy: 0.9825\n",
            "Epoch 98/100\n",
            "15/15 [==============================] - 0s 6ms/step - loss: 0.0315 - accuracy: 0.9934 - val_loss: 0.0772 - val_accuracy: 0.9825\n",
            "Epoch 99/100\n",
            "15/15 [==============================] - 0s 5ms/step - loss: 0.0317 - accuracy: 0.9934 - val_loss: 0.0794 - val_accuracy: 0.9825\n",
            "Epoch 100/100\n",
            "15/15 [==============================] - 0s 5ms/step - loss: 0.0307 - accuracy: 0.9934 - val_loss: 0.0790 - val_accuracy: 0.9825\n",
            "4/4 [==============================] - 0s 4ms/step - loss: 0.0790 - accuracy: 0.9825\n",
            "\n",
            "Our first neural network managed 98.25% accuracy.\n",
            "\n",
            "Our first neural network managed 0.08 loss.\n"
          ]
        }
      ],
      "source": [
        "# Compile it, train it, and evaluate it\n",
        "model.compile(\n",
        "    optimizer = 'adam',\n",
        "    loss = 'binary_crossentropy',\n",
        "    metrics = ['accuracy']\n",
        "    )\n",
        "\n",
        "\n",
        "history = model.fit(Z_train,\n",
        "                    y_train,\n",
        "                    validation_data = (Z_test, y_test),\n",
        "                    epochs = 100,\n",
        "                    )\n",
        "\n",
        "loss, accuracy = model.evaluate(Z_test,\n",
        "                                y_test\n",
        "                                )\n",
        "\n",
        "print(f'\\nOur first neural network managed {round(accuracy * 100, 2)}% accuracy.')\n",
        "print(f'\\nOur first neural network managed {round(loss, 2)} loss.')"
      ]
    },
    {
      "cell_type": "code",
      "execution_count": 109,
      "metadata": {
        "id": "ObaNze4znHKN",
        "colab": {
          "base_uri": "https://localhost:8080/",
          "height": 279
        },
        "outputId": "ee6c6c61-5387-4f36-8338-a669385926e6"
      },
      "outputs": [
        {
          "output_type": "display_data",
          "data": {
            "text/plain": [
              "<Figure size 960x288 with 2 Axes>"
            ],
            "image/png": "[encoded data removed]"
          },
          "metadata": {
            "needs_background": "light"
          }
        }
      ],
      "source": [
        "fig = plt.figure(figsize = plt.figaspect(0.3))\n",
        "\n",
        "ax = fig.add_subplot(1, 2, 1)\n",
        "ax.plot(history.history['loss'],\n",
        "        label = 'Training Loss')\n",
        "\n",
        "ax.plot(history.history['val_loss'],\n",
        "        label = 'Test Loss')\n",
        "\n",
        "plt.xlabel('Epoch')\n",
        "plt.ylabel('Loss')\n",
        "plt.legend()\n",
        "\n",
        "ax = fig.add_subplot(1, 2, 2)\n",
        "ax.plot(history.history['accuracy'],\n",
        "        label = 'Training Accuracy')\n",
        "\n",
        "ax.plot(history.history['val_accuracy'],\n",
        "        label = 'Test Accuracy')\n",
        "\n",
        "plt.xlabel('Epoch')\n",
        "plt.ylabel('Accuracy')\n",
        "plt.legend()\n",
        "\n",
        "plt.show()"
      ]
    }
  ],
  "metadata": {
    "kernelspec": {
      "display_name": "Python 3 (ipykernel)",
      "language": "python",
      "name": "python3"
    },
    "language_info": {
      "codemirror_mode": {
        "name": "ipython",
        "version": 3
      },
      "file_extension": ".py",
      "mimetype": "text/x-python",
      "name": "python",
      "nbconvert_exporter": "python",
      "pygments_lexer": "ipython3",
      "version": "3.9.7"
    },
    "colab": {
      "provenance": [],
      "include_colab_link": true
    },
    "accelerator": "GPU"
  },
  "nbformat": 4,
  "nbformat_minor": 0
}