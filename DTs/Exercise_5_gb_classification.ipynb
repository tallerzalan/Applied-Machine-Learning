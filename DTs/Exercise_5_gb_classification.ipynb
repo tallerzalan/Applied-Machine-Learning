{
  "cells": [
    {
      "cell_type": "markdown",
      "metadata": {
        "id": "view-in-github",
        "colab_type": "text"
      },
      "source": [
        "<a href=\"https://colab.research.google.com/github/tallerzalan/Applied-Machine-Learning/blob/main/DTs/Exercise_5_gb_classification.ipynb\" target=\"_parent\"><img src=\"https://colab.research.google.com/assets/colab-badge.svg\" alt=\"Open In Colab\"/></a>"
      ]
    },
    {
      "cell_type": "markdown",
      "metadata": {
        "id": "EXwZB7f2j7Ch"
      },
      "source": [
        "# Exercise - Boosting for classification\n",
        "\n",
        "1. Use the $\\texttt{load_breast_cancer}$ data (remember to split your data into a train, validation, and test data). Using your training and validation data, optimize the parameters of your GradientBoostingClassifier. How well does your optimized model perform on the test data?\n",
        "1. Implement an RF and a SVM and use these as well (**note**: you may want to perform standardization for the SVM). How well do they perform on the test data? Try to \"vote\" using all three models (boosting, RF, and SVM) and select the class with the most votes. How well does your ensemble of all three models perform?\n",
        "\n",
        "**See slides for more details!**"
      ]
    },
    {
      "cell_type": "code",
      "execution_count": null,
      "metadata": {
        "colab": {
          "base_uri": "https://localhost:8080/"
        },
        "id": "JguFYBppj7Cn",
        "outputId": "55e26588-3c62-40a8-fa79-960a0b6f42d4"
      },
      "outputs": [
        {
          "output_type": "stream",
          "name": "stdout",
          "text": [
            "(364, 30) (91, 30) (114, 30) (364,) (91,) (114,)\n"
          ]
        }
      ],
      "source": [
        "from sklearn.datasets import load_breast_cancer\n",
        "from sklearn.model_selection import train_test_split\n",
        "from sklearn.metrics import accuracy_score\n",
        "from sklearn.ensemble import GradientBoostingClassifier, RandomForestClassifier\n",
        "from sklearn.tree import DecisionTreeClassifier\n",
        "import pandas as pd\n",
        "import numpy as np\n",
        "\n",
        "X, y = load_breast_cancer(return_X_y = True)\n",
        "\n",
        "# Use `train_test_split` to split your data into a train and a test set.\n",
        "X_train, X_test, y_train, y_test = train_test_split(X,\n",
        "                                                    y,\n",
        "                                                    test_size = 0.2,\n",
        "                                                    random_state = 42)\n",
        "\n",
        "# Use `train_test_split` to split your train data into a train and a validation  set.\n",
        "X_train, X_val, y_train, y_val = train_test_split(X_train,\n",
        "                                                  y_train,\n",
        "                                                  test_size = 0.2,\n",
        "                                                  random_state = 42)\n",
        "\n",
        "print(X_train.shape, X_val.shape, X_test.shape, y_train.shape, y_val.shape, y_test.shape)"
      ]
    },
    {
      "cell_type": "markdown",
      "metadata": {
        "id": "_OMHpRKWj7Cv"
      },
      "source": [
        "# Exercise 1\n",
        "\n",
        "Use the $\\texttt{load_breast_cancer}$ data (remember to split your data into a train, validation, and test data). Using your training and validation data, optimize the parameters of your GradientBoostingClassifier. How well does your optimized model perform on the test data?"
      ]
    },
    {
      "cell_type": "markdown",
      "metadata": {
        "id": "s_UVgIVtj7Cw"
      },
      "source": [
        "Let us start by ensuring we can just run an GBT without any optimization."
      ]
    },
    {
      "cell_type": "code",
      "execution_count": null,
      "metadata": {
        "colab": {
          "base_uri": "https://localhost:8080/"
        },
        "id": "6m21uTIpj7Cw",
        "outputId": "22dc9277-de03-496d-889d-264aa6422154"
      },
      "outputs": [
        {
          "output_type": "stream",
          "name": "stdout",
          "text": [
            "Boosting with default settings has validation accuracy of 95.6%.\n"
          ]
        }
      ],
      "source": [
        "gbt_current = GradientBoostingClassifier(random_state = 1)\n",
        "\n",
        "gbt_current.fit(X_train, y_train)\n",
        "\n",
        "y_val_hat = gbt_current.predict(X_val)\n",
        "\n",
        "acc = accuracy_score(y_val, y_val_hat)\n",
        "\n",
        "print(f'Boosting with default settings has validation accuracy of {round(acc * 100, 2)}%.')"
      ]
    },
    {
      "cell_type": "code",
      "execution_count": null,
      "metadata": {
        "scrolled": false,
        "colab": {
          "base_uri": "https://localhost:8080/"
        },
        "id": "njvoLsq0j7Cx",
        "outputId": "aca7ab16-dc42-42b0-afa5-682168744ba0"
      },
      "outputs": [
        {
          "output_type": "stream",
          "name": "stdout",
          "text": [
            "     Accuracy  n_estimators  min_samples_split  min_samples_leaf\n",
            "0    0.604396             2                  2                 2\n",
            "1    0.604396             2                  2                 3\n",
            "2    0.604396             2                  2                 4\n",
            "3    0.604396             2                  2                 5\n",
            "4    0.604396             2                  2                 6\n",
            "..        ...           ...                ...               ...\n",
            "724  0.923077            10                 10                 6\n",
            "725  0.923077            10                 10                 7\n",
            "726  0.923077            10                 10                 8\n",
            "727  0.923077            10                 10                 9\n",
            "728  0.934066            10                 10                10\n",
            "\n",
            "[729 rows x 4 columns]\n"
          ]
        }
      ],
      "source": [
        "# Remember you can try other stuff than these specific parameters.\n",
        "# Just here to get you started!\n",
        "\n",
        "n_estimators_list = [n_est for n_est in np.arange(2, 11, 1)]\n",
        "min_samples_split_list = [min_split for min_split in np.arange(2, 11, 1)]\n",
        "min_samples_leaf_list = [min_leaf for min_leaf in np.arange(2, 11, 1)]\n",
        "\n",
        "results = []\n",
        "\n",
        "for n_estimators in n_estimators_list:\n",
        "    for min_samples_split in min_samples_split_list:\n",
        "        for min_samples_leaf in min_samples_leaf_list:\n",
        "            gbt_current = GradientBoostingClassifier(\n",
        "                n_estimators = n_estimators,\n",
        "                min_samples_split = min_samples_split,\n",
        "                min_samples_leaf = min_samples_leaf,\n",
        "                random_state = 42\n",
        "                )\n",
        "            gbt_current.fit(X_train, y_train)\n",
        "            y_val_hat = gbt_current.predict(X_val)\n",
        "            acc = accuracy_score(y_val, y_val_hat)\n",
        "\n",
        "            results.append([acc, n_estimators, min_samples_split, min_samples_leaf])\n",
        "\n",
        "results = pd.DataFrame(results)\n",
        "results.columns = ['Accuracy', 'n_estimators', 'min_samples_split', 'min_samples_leaf']\n",
        "print(results)"
      ]
    },
    {
      "cell_type": "code",
      "execution_count": null,
      "metadata": {
        "colab": {
          "base_uri": "https://localhost:8080/",
          "height": 332
        },
        "id": "cIgYp-6aj7Cz",
        "outputId": "2a0e5e4e-b52f-43bf-81a5-9283f6b9a6f4"
      },
      "outputs": [
        {
          "output_type": "execute_result",
          "data": {
            "text/plain": [
              "     Accuracy  n_estimators  min_samples_split  min_samples_leaf\n",
              "89   0.967033             3                  2                10\n",
              "98   0.967033             3                  3                10\n",
              "107  0.967033             3                  4                10\n",
              "116  0.967033             3                  5                10\n",
              "125  0.967033             3                  6                10\n",
              "134  0.967033             3                  7                10\n",
              "143  0.967033             3                  8                10\n",
              "152  0.967033             3                  9                10\n",
              "161  0.967033             3                 10                10"
            ],
            "text/html": [
              "\n",
              "  <div id=\"df-ed3c1f7f-2e31-4101-a7b0-d2bfe9d4fd23\">\n",
              "    <div class=\"colab-df-container\">\n",
              "      <div>\n",
              "<style scoped>\n",
              "    .dataframe tbody tr th:only-of-type {\n",
              "        vertical-align: middle;\n",
              "    }\n",
              "\n",
              "    .dataframe tbody tr th {\n",
              "        vertical-align: top;\n",
              "    }\n",
              "\n",
              "    .dataframe thead th {\n",
              "        text-align: right;\n",
              "    }\n",
              "</style>\n",
              "<table border=\"1\" class=\"dataframe\">\n",
              "  <thead>\n",
              "    <tr style=\"text-align: right;\">\n",
              "      <th></th>\n",
              "      <th>Accuracy</th>\n",
              "      <th>n_estimators</th>\n",
              "      <th>min_samples_split</th>\n",
              "      <th>min_samples_leaf</th>\n",
              "    </tr>\n",
              "  </thead>\n",
              "  <tbody>\n",
              "    <tr>\n",
              "      <th>89</th>\n",
              "      <td>0.967033</td>\n",
              "      <td>3</td>\n",
              "      <td>2</td>\n",
              "      <td>10</td>\n",
              "    </tr>\n",
              "    <tr>\n",
              "      <th>98</th>\n",
              "      <td>0.967033</td>\n",
              "      <td>3</td>\n",
              "      <td>3</td>\n",
              "      <td>10</td>\n",
              "    </tr>\n",
              "    <tr>\n",
              "      <th>107</th>\n",
              "      <td>0.967033</td>\n",
              "      <td>3</td>\n",
              "      <td>4</td>\n",
              "      <td>10</td>\n",
              "    </tr>\n",
              "    <tr>\n",
              "      <th>116</th>\n",
              "      <td>0.967033</td>\n",
              "      <td>3</td>\n",
              "      <td>5</td>\n",
              "      <td>10</td>\n",
              "    </tr>\n",
              "    <tr>\n",
              "      <th>125</th>\n",
              "      <td>0.967033</td>\n",
              "      <td>3</td>\n",
              "      <td>6</td>\n",
              "      <td>10</td>\n",
              "    </tr>\n",
              "    <tr>\n",
              "      <th>134</th>\n",
              "      <td>0.967033</td>\n",
              "      <td>3</td>\n",
              "      <td>7</td>\n",
              "      <td>10</td>\n",
              "    </tr>\n",
              "    <tr>\n",
              "      <th>143</th>\n",
              "      <td>0.967033</td>\n",
              "      <td>3</td>\n",
              "      <td>8</td>\n",
              "      <td>10</td>\n",
              "    </tr>\n",
              "    <tr>\n",
              "      <th>152</th>\n",
              "      <td>0.967033</td>\n",
              "      <td>3</td>\n",
              "      <td>9</td>\n",
              "      <td>10</td>\n",
              "    </tr>\n",
              "    <tr>\n",
              "      <th>161</th>\n",
              "      <td>0.967033</td>\n",
              "      <td>3</td>\n",
              "      <td>10</td>\n",
              "      <td>10</td>\n",
              "    </tr>\n",
              "  </tbody>\n",
              "</table>\n",
              "</div>\n",
              "      <button class=\"colab-df-convert\" onclick=\"convertToInteractive('df-ed3c1f7f-2e31-4101-a7b0-d2bfe9d4fd23')\"\n",
              "              title=\"Convert this dataframe to an interactive table.\"\n",
              "              style=\"display:none;\">\n",
              "        \n",
              "  <svg xmlns=\"http://www.w3.org/2000/svg\" height=\"24px\"viewBox=\"0 0 24 24\"\n",
              "       width=\"24px\">\n",
              "    <path d=\"M0 0h24v24H0V0z\" fill=\"none\"/>\n",
              "    <path d=\"M18.56 5.44l.94 2.06.94-2.06 2.06-.94-2.06-.94-.94-2.06-.94 2.06-2.06.94zm-11 1L8.5 8.5l.94-2.06 2.06-.94-2.06-.94L8.5 2.5l-.94 2.06-2.06.94zm10 10l.94 2.06.94-2.06 2.06-.94-2.06-.94-.94-2.06-.94 2.06-2.06.94z\"/><path d=\"M17.41 7.96l-1.37-1.37c-.4-.4-.92-.59-1.43-.59-.52 0-1.04.2-1.43.59L10.3 9.45l-7.72 7.72c-.78.78-.78 2.05 0 2.83L4 21.41c.39.39.9.59 1.41.59.51 0 1.02-.2 1.41-.59l7.78-7.78 2.81-2.81c.8-.78.8-2.07 0-2.86zM5.41 20L4 18.59l7.72-7.72 1.47 1.35L5.41 20z\"/>\n",
              "  </svg>\n",
              "      </button>\n",
              "      \n",
              "  <style>\n",
              "    .colab-df-container {\n",
              "      display:flex;\n",
              "      flex-wrap:wrap;\n",
              "      gap: 12px;\n",
              "    }\n",
              "\n",
              "    .colab-df-convert {\n",
              "      background-color: #E8F0FE;\n",
              "      border: none;\n",
              "      border-radius: 50%;\n",
              "      cursor: pointer;\n",
              "      display: none;\n",
              "      fill: #1967D2;\n",
              "      height: 32px;\n",
              "      padding: 0 0 0 0;\n",
              "      width: 32px;\n",
              "    }\n",
              "\n",
              "    .colab-df-convert:hover {\n",
              "      background-color: #E2EBFA;\n",
              "      box-shadow: 0px 1px 2px rgba(60, 64, 67, 0.3), 0px 1px 3px 1px rgba(60, 64, 67, 0.15);\n",
              "      fill: #174EA6;\n",
              "    }\n",
              "\n",
              "    [theme=dark] .colab-df-convert {\n",
              "      background-color: #3B4455;\n",
              "      fill: #D2E3FC;\n",
              "    }\n",
              "\n",
              "    [theme=dark] .colab-df-convert:hover {\n",
              "      background-color: #434B5C;\n",
              "      box-shadow: 0px 1px 3px 1px rgba(0, 0, 0, 0.15);\n",
              "      filter: drop-shadow(0px 1px 2px rgba(0, 0, 0, 0.3));\n",
              "      fill: #FFFFFF;\n",
              "    }\n",
              "  </style>\n",
              "\n",
              "      <script>\n",
              "        const buttonEl =\n",
              "          document.querySelector('#df-ed3c1f7f-2e31-4101-a7b0-d2bfe9d4fd23 button.colab-df-convert');\n",
              "        buttonEl.style.display =\n",
              "          google.colab.kernel.accessAllowed ? 'block' : 'none';\n",
              "\n",
              "        async function convertToInteractive(key) {\n",
              "          const element = document.querySelector('#df-ed3c1f7f-2e31-4101-a7b0-d2bfe9d4fd23');\n",
              "          const dataTable =\n",
              "            await google.colab.kernel.invokeFunction('convertToInteractive',\n",
              "                                                     [key], {});\n",
              "          if (!dataTable) return;\n",
              "\n",
              "          const docLinkHtml = 'Like what you see? Visit the ' +\n",
              "            '<a target=\"_blank\" href=https://colab.research.google.com/notebooks/data_table.ipynb>data table notebook</a>'\n",
              "            + ' to learn more about interactive tables.';\n",
              "          element.innerHTML = '';\n",
              "          dataTable['output_type'] = 'display_data';\n",
              "          await google.colab.output.renderOutput(dataTable, element);\n",
              "          const docLink = document.createElement('div');\n",
              "          docLink.innerHTML = docLinkHtml;\n",
              "          element.appendChild(docLink);\n",
              "        }\n",
              "      </script>\n",
              "    </div>\n",
              "  </div>\n",
              "  "
            ]
          },
          "metadata": {},
          "execution_count": 34
        }
      ],
      "source": [
        "# Extract best parameters.\n",
        "results[results['Accuracy'] == results['Accuracy'].max()]"
      ]
    },
    {
      "cell_type": "code",
      "execution_count": null,
      "metadata": {
        "colab": {
          "base_uri": "https://localhost:8080/"
        },
        "id": "Uln2ydsNj7C0",
        "outputId": "16ea8d3a-b19c-4669-cde4-131b5373180c"
      },
      "outputs": [
        {
          "output_type": "stream",
          "name": "stdout",
          "text": [
            "Optimized GBT achieved Accuracy = 92.11%.\n"
          ]
        }
      ],
      "source": [
        "# Initialize your final model\n",
        "gbt_optimized = GradientBoostingClassifier(\n",
        "    n_estimators = 3,\n",
        "    min_samples_split = 2,\n",
        "    min_samples_leaf = 10,\n",
        "    random_state = 42\n",
        "    )\n",
        "\n",
        "# Use both training and validation data to fit it using np.concatenate (np.concatenate \"stacks\" the array like rbind in R)\n",
        "gbt_optimized.fit(np.concatenate([X_train, X_val]), np.concatenate([y_train, y_val]))\n",
        "\n",
        "# Predict on test data\n",
        "y_test_hat_optimized = gbt_optimized.predict(X_test)\n",
        "\n",
        "# Obtain and check accuracy on test data\n",
        "accuracy_optimized = mse = accuracy_score(y_test_hat_optimized, y_test)\n",
        "print(f'Optimized GBT achieved Accuracy = {round(accuracy_optimized*100, 2)}%.')"
      ]
    },
    {
      "cell_type": "markdown",
      "metadata": {
        "id": "kppxJ_7Gj7C0"
      },
      "source": [
        "# Exercise 2\n",
        "\n",
        "Implement an RF and a SVM and use these as well (**note**: you may want to perform standardization for the SVM). How well do they perform on the test data? Try to \"vote\" using all three models (boosting, RF, and SVM) and select the class with the most votes. How well does your ensemble of all three models perform?"
      ]
    },
    {
      "cell_type": "code",
      "execution_count": null,
      "metadata": {
        "id": "0u9PTdukj7C1"
      },
      "outputs": [],
      "source": [
        "from sklearn.preprocessing import StandardScaler\n",
        "from sklearn import svm\n",
        "\n",
        "# Scale your data\n",
        "scaler = StandardScaler()\n",
        "Z_train = scaler.fit_transform(X_train)\n",
        "Z_val = scaler.transform(X_val)\n",
        "Z_test = scaler.transform(X_test)"
      ]
    },
    {
      "cell_type": "code",
      "execution_count": null,
      "metadata": {
        "id": "pqJ6cS-Yj7C3",
        "colab": {
          "base_uri": "https://localhost:8080/"
        },
        "outputId": "ad760347-a79a-4e2d-bede-16beb6b0d1eb"
      },
      "outputs": [
        {
          "output_type": "stream",
          "name": "stdout",
          "text": [
            "DT achieved Accuracy = 93.86%.\n",
            "RF achieved Accuracy = 96.49%.\n",
            "GBT achieved Accuracy = 95.61%.\n"
          ]
        }
      ],
      "source": [
        "# Initialize your final models\n",
        "# Initialize DT, RF, and GBT\n",
        "dt = DecisionTreeClassifier()\n",
        "rf = RandomForestClassifier()\n",
        "gbt = GradientBoostingClassifier()\n",
        "\n",
        "# Fit your models\n",
        "dt.fit(Z_train, y_train)\n",
        "rf.fit(Z_train, y_train)\n",
        "gbt.fit(Z_train, y_train)\n",
        "\n",
        "# Use both training and validation data to fit them using np.concatenate (np.concatenate \"stacks\" the array like rbind in R)\n",
        "dt.fit(np.concatenate([Z_train, Z_val]), np.concatenate([y_train, y_val]))\n",
        "rf.fit(np.concatenate([Z_train, Z_val]), np.concatenate([y_train, y_val]))\n",
        "gbt.fit(np.concatenate([Z_train, Z_val]), np.concatenate([y_train, y_val]))\n",
        "\n",
        "# Predict on test data\n",
        "y_test_hat_dt = dt.predict(Z_test)\n",
        "y_test_hat_rf = rf.predict(Z_test)\n",
        "y_test_hat_gbt = gbt.predict(Z_test)\n",
        "\n",
        "# Obtain and check mse on test data. Is it lower or higher than the RF?\n",
        "accuracy_dt = accuracy_score(y_test_hat_dt, y_test)\n",
        "accuracy_rf = accuracy_score(y_test_hat_rf, y_test)\n",
        "accuracy_gbt = accuracy_score(y_test_hat_gbt, y_test)\n",
        "\n",
        "print(f'DT achieved Accuracy = {round(accuracy_dt*100, 2)}%.')\n",
        "print(f'RF achieved Accuracy = {round(accuracy_rf*100, 2)}%.')\n",
        "print(f'GBT achieved Accuracy = {round(accuracy_gbt*100, 2)}%.')"
      ]
    },
    {
      "cell_type": "code",
      "execution_count": null,
      "metadata": {
        "id": "1DiE2rlTj7C3",
        "colab": {
          "base_uri": "https://localhost:8080/"
        },
        "outputId": "cdc9ef8a-a4ad-4576-c1f6-9f36446d20b6"
      },
      "outputs": [
        {
          "output_type": "stream",
          "name": "stdout",
          "text": [
            "Ensemble of boosting, RF, and SVM achieved test accuracy of 95.61%.\n"
          ]
        }
      ],
      "source": [
        "# Finally combine the predictions\n",
        "\n",
        "y_test_hat_combined = np.c_[y_test_hat_gbt, y_test_hat_rf, y_test_hat_dt]\n",
        "\n",
        "y_test_hat_combined = np.round(np.sum(y_test_hat_combined, axis=1) / y_test_hat_combined.shape[1]).astype(int)\n",
        "\n",
        "acc = accuracy_score(y_test, y_test_hat_combined)\n",
        "\n",
        "print(f'Ensemble of boosting, RF, and SVM achieved test accuracy of {round(acc * 100, 2)}%.')"
      ]
    }
  ],
  "metadata": {
    "kernelspec": {
      "display_name": "Python 3",
      "language": "python",
      "name": "python3"
    },
    "language_info": {
      "codemirror_mode": {
        "name": "ipython",
        "version": 3
      },
      "file_extension": ".py",
      "mimetype": "text/x-python",
      "name": "python",
      "nbconvert_exporter": "python",
      "pygments_lexer": "ipython3",
      "version": "3.7.3"
    },
    "colab": {
      "provenance": [],
      "collapsed_sections": [],
      "include_colab_link": true
    }
  },
  "nbformat": 4,
  "nbformat_minor": 0
}