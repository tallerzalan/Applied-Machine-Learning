{
  "cells": [
    {
      "cell_type": "markdown",
      "metadata": {
        "id": "view-in-github",
        "colab_type": "text"
      },
      "source": [
        "<a href=\"https://colab.research.google.com/github/tallerzalan/Applied-Machine-Learning/blob/main/DTs/Exercise_2_dt_k_classes.ipynb\" target=\"_parent\"><img src=\"https://colab.research.google.com/assets/colab-badge.svg\" alt=\"Open In Colab\"/></a>"
      ]
    },
    {
      "cell_type": "markdown",
      "metadata": {
        "id": "-LcUb2SKnyfB"
      },
      "source": [
        "# Exercise - DT for classification of 3 classes\n",
        "\n",
        "1. Use the $\\texttt{load_wine}$ data (remember to split your data into a train, validation, and test data). Find the optimal parameters (using the parameters discussed earlier). How high accuracy can you achieve on the test data?\n",
        "\n",
        "**See slides for more details!**"
      ]
    },
    {
      "cell_type": "code",
      "execution_count": 144,
      "metadata": {
        "colab": {
          "base_uri": "https://localhost:8080/"
        },
        "id": "4pHPcF9FnyfD",
        "outputId": "9eca5d4c-2985-4ef7-b59e-eefe2ea3a566"
      },
      "outputs": [
        {
          "output_type": "stream",
          "name": "stdout",
          "text": [
            "(142, 13) (36, 13) (142,) (36,)\n",
            "(113, 13) (29, 13) (36, 13) (113,) (29,) (36,)\n"
          ]
        }
      ],
      "source": [
        "import warnings\n",
        "warnings.filterwarnings('ignore')\n",
        "\n",
        "from sklearn.datasets import load_wine\n",
        "from sklearn.model_selection import train_test_split\n",
        "from sklearn.metrics import accuracy_score\n",
        "from sklearn.tree import DecisionTreeClassifier\n",
        "import pandas as pd\n",
        "import numpy as np\n",
        "\n",
        "# Load the wine dataset\n",
        "X, y = load_wine(return_X_y = True)\n",
        "\n",
        "# We use `train_test_split` to split our data into a train and a test set.\n",
        "X_train, X_test, y_train, y_test = train_test_split(X,\n",
        "                                                    y,\n",
        "                                                    test_size = 0.2,\n",
        "                                                    random_state = 42)\n",
        "\n",
        "print(X_train.shape, X_test.shape, y_train.shape, y_test.shape)\n",
        "\n",
        "# Now split the train data to also obtain validation data\n",
        "X_train, X_val, y_train, y_val = train_test_split(X_train,\n",
        "                                                  y_train,\n",
        "                                                  test_size = 0.2,\n",
        "                                                  random_state = 42)\n",
        "\n",
        "print(X_train.shape, X_val.shape, X_test.shape, y_train.shape, y_val.shape, y_test.shape)"
      ]
    },
    {
      "cell_type": "code",
      "execution_count": 145,
      "metadata": {
        "colab": {
          "base_uri": "https://localhost:8080/"
        },
        "id": "2OKSDWMwnyfE",
        "outputId": "8597a713-29eb-4118-f551-0f4ec3559642"
      },
      "outputs": [
        {
          "output_type": "stream",
          "name": "stdout",
          "text": [
            "     Accuracy  min_samples_split  min_samples_leaf  max_features\n",
            "651  1.000000                 10                 2             5\n",
            "327  1.000000                  6                 2             5\n",
            "408  1.000000                  7                 2             5\n",
            "570  1.000000                  9                 2             5\n",
            "246  1.000000                  5                 2             5\n",
            "..        ...                ...               ...           ...\n",
            "486  0.758621                  8                 2             2\n",
            "414  0.758621                  7                 3             2\n",
            "495  0.758621                  8                 3             2\n",
            "405  0.758621                  7                 2             2\n",
            "576  0.758621                  9                 3             2\n",
            "\n",
            "[729 rows x 4 columns]\n"
          ]
        }
      ],
      "source": [
        "min_samples_split_list = [min_split for min_split in np.arange(2, 11, 1)] # input values seperated by \",\".\n",
        "min_samples_leaf_list = [min_leaf for min_leaf in np.arange(2, 11, 1)] # input values seperated by \",\".\n",
        "max_features_list = [max_feat for max_feat in np.arange(2, 11, 1)] # input values seperated by \",\".\n",
        "#max_features_list = ['auto', 'sqrt', 'log2']\n",
        "\n",
        "results = []\n",
        "\n",
        "for min_samples_split in min_samples_split_list:\n",
        "    for min_samples_leaf in min_samples_leaf_list:\n",
        "        for max_features in max_features_list:\n",
        "            dt_current = DecisionTreeClassifier(\n",
        "                min_samples_split = min_samples_split,\n",
        "                min_samples_leaf = min_samples_leaf,\n",
        "                max_features = max_features,\n",
        "                random_state = 42)\n",
        "            dt_current.fit(X_train, y_train)\n",
        "            y_val_hat = dt_current.predict(X_val)\n",
        "            accuracy = accuracy_score(y_val_hat, y_val)\n",
        "\n",
        "            results.append([accuracy, min_samples_split, min_samples_leaf, max_features])\n",
        "\n",
        "results = pd.DataFrame(results)\n",
        "results.columns = ['Accuracy', 'min_samples_split', 'min_samples_leaf', 'max_features']\n",
        "print(results.sort_values('Accuracy', ascending = False))"
      ]
    },
    {
      "cell_type": "code",
      "execution_count": 146,
      "metadata": {
        "colab": {
          "base_uri": "https://localhost:8080/",
          "height": 238
        },
        "id": "L20XVcK6nyfF",
        "outputId": "ca9619a1-51d0-4832-94ae-20ba275559ba"
      },
      "outputs": [
        {
          "output_type": "execute_result",
          "data": {
            "text/plain": [
              "     Accuracy  min_samples_split  min_samples_leaf  max_features\n",
              "246       1.0                  5                 2             5\n",
              "327       1.0                  6                 2             5\n",
              "408       1.0                  7                 2             5\n",
              "489       1.0                  8                 2             5\n",
              "570       1.0                  9                 2             5\n",
              "651       1.0                 10                 2             5"
            ],
            "text/html": [
              "\n",
              "  <div id=\"df-c2909cd8-53bf-411b-ac1b-0b111b8461ba\">\n",
              "    <div class=\"colab-df-container\">\n",
              "      <div>\n",
              "<style scoped>\n",
              "    .dataframe tbody tr th:only-of-type {\n",
              "        vertical-align: middle;\n",
              "    }\n",
              "\n",
              "    .dataframe tbody tr th {\n",
              "        vertical-align: top;\n",
              "    }\n",
              "\n",
              "    .dataframe thead th {\n",
              "        text-align: right;\n",
              "    }\n",
              "</style>\n",
              "<table border=\"1\" class=\"dataframe\">\n",
              "  <thead>\n",
              "    <tr style=\"text-align: right;\">\n",
              "      <th></th>\n",
              "      <th>Accuracy</th>\n",
              "      <th>min_samples_split</th>\n",
              "      <th>min_samples_leaf</th>\n",
              "      <th>max_features</th>\n",
              "    </tr>\n",
              "  </thead>\n",
              "  <tbody>\n",
              "    <tr>\n",
              "      <th>246</th>\n",
              "      <td>1.0</td>\n",
              "      <td>5</td>\n",
              "      <td>2</td>\n",
              "      <td>5</td>\n",
              "    </tr>\n",
              "    <tr>\n",
              "      <th>327</th>\n",
              "      <td>1.0</td>\n",
              "      <td>6</td>\n",
              "      <td>2</td>\n",
              "      <td>5</td>\n",
              "    </tr>\n",
              "    <tr>\n",
              "      <th>408</th>\n",
              "      <td>1.0</td>\n",
              "      <td>7</td>\n",
              "      <td>2</td>\n",
              "      <td>5</td>\n",
              "    </tr>\n",
              "    <tr>\n",
              "      <th>489</th>\n",
              "      <td>1.0</td>\n",
              "      <td>8</td>\n",
              "      <td>2</td>\n",
              "      <td>5</td>\n",
              "    </tr>\n",
              "    <tr>\n",
              "      <th>570</th>\n",
              "      <td>1.0</td>\n",
              "      <td>9</td>\n",
              "      <td>2</td>\n",
              "      <td>5</td>\n",
              "    </tr>\n",
              "    <tr>\n",
              "      <th>651</th>\n",
              "      <td>1.0</td>\n",
              "      <td>10</td>\n",
              "      <td>2</td>\n",
              "      <td>5</td>\n",
              "    </tr>\n",
              "  </tbody>\n",
              "</table>\n",
              "</div>\n",
              "      <button class=\"colab-df-convert\" onclick=\"convertToInteractive('df-c2909cd8-53bf-411b-ac1b-0b111b8461ba')\"\n",
              "              title=\"Convert this dataframe to an interactive table.\"\n",
              "              style=\"display:none;\">\n",
              "        \n",
              "  <svg xmlns=\"http://www.w3.org/2000/svg\" height=\"24px\"viewBox=\"0 0 24 24\"\n",
              "       width=\"24px\">\n",
              "    <path d=\"M0 0h24v24H0V0z\" fill=\"none\"/>\n",
              "    <path d=\"M18.56 5.44l.94 2.06.94-2.06 2.06-.94-2.06-.94-.94-2.06-.94 2.06-2.06.94zm-11 1L8.5 8.5l.94-2.06 2.06-.94-2.06-.94L8.5 2.5l-.94 2.06-2.06.94zm10 10l.94 2.06.94-2.06 2.06-.94-2.06-.94-.94-2.06-.94 2.06-2.06.94z\"/><path d=\"M17.41 7.96l-1.37-1.37c-.4-.4-.92-.59-1.43-.59-.52 0-1.04.2-1.43.59L10.3 9.45l-7.72 7.72c-.78.78-.78 2.05 0 2.83L4 21.41c.39.39.9.59 1.41.59.51 0 1.02-.2 1.41-.59l7.78-7.78 2.81-2.81c.8-.78.8-2.07 0-2.86zM5.41 20L4 18.59l7.72-7.72 1.47 1.35L5.41 20z\"/>\n",
              "  </svg>\n",
              "      </button>\n",
              "      \n",
              "  <style>\n",
              "    .colab-df-container {\n",
              "      display:flex;\n",
              "      flex-wrap:wrap;\n",
              "      gap: 12px;\n",
              "    }\n",
              "\n",
              "    .colab-df-convert {\n",
              "      background-color: #E8F0FE;\n",
              "      border: none;\n",
              "      border-radius: 50%;\n",
              "      cursor: pointer;\n",
              "      display: none;\n",
              "      fill: #1967D2;\n",
              "      height: 32px;\n",
              "      padding: 0 0 0 0;\n",
              "      width: 32px;\n",
              "    }\n",
              "\n",
              "    .colab-df-convert:hover {\n",
              "      background-color: #E2EBFA;\n",
              "      box-shadow: 0px 1px 2px rgba(60, 64, 67, 0.3), 0px 1px 3px 1px rgba(60, 64, 67, 0.15);\n",
              "      fill: #174EA6;\n",
              "    }\n",
              "\n",
              "    [theme=dark] .colab-df-convert {\n",
              "      background-color: #3B4455;\n",
              "      fill: #D2E3FC;\n",
              "    }\n",
              "\n",
              "    [theme=dark] .colab-df-convert:hover {\n",
              "      background-color: #434B5C;\n",
              "      box-shadow: 0px 1px 3px 1px rgba(0, 0, 0, 0.15);\n",
              "      filter: drop-shadow(0px 1px 2px rgba(0, 0, 0, 0.3));\n",
              "      fill: #FFFFFF;\n",
              "    }\n",
              "  </style>\n",
              "\n",
              "      <script>\n",
              "        const buttonEl =\n",
              "          document.querySelector('#df-c2909cd8-53bf-411b-ac1b-0b111b8461ba button.colab-df-convert');\n",
              "        buttonEl.style.display =\n",
              "          google.colab.kernel.accessAllowed ? 'block' : 'none';\n",
              "\n",
              "        async function convertToInteractive(key) {\n",
              "          const element = document.querySelector('#df-c2909cd8-53bf-411b-ac1b-0b111b8461ba');\n",
              "          const dataTable =\n",
              "            await google.colab.kernel.invokeFunction('convertToInteractive',\n",
              "                                                     [key], {});\n",
              "          if (!dataTable) return;\n",
              "\n",
              "          const docLinkHtml = 'Like what you see? Visit the ' +\n",
              "            '<a target=\"_blank\" href=https://colab.research.google.com/notebooks/data_table.ipynb>data table notebook</a>'\n",
              "            + ' to learn more about interactive tables.';\n",
              "          element.innerHTML = '';\n",
              "          dataTable['output_type'] = 'display_data';\n",
              "          await google.colab.output.renderOutput(dataTable, element);\n",
              "          const docLink = document.createElement('div');\n",
              "          docLink.innerHTML = docLinkHtml;\n",
              "          element.appendChild(docLink);\n",
              "        }\n",
              "      </script>\n",
              "    </div>\n",
              "  </div>\n",
              "  "
            ]
          },
          "metadata": {},
          "execution_count": 146
        }
      ],
      "source": [
        "# Extract best parameters.\n",
        "results[results['Accuracy'] == results['Accuracy'].max()]"
      ]
    },
    {
      "cell_type": "code",
      "execution_count": 147,
      "metadata": {
        "colab": {
          "base_uri": "https://localhost:8080/"
        },
        "id": "uhryRYnanyfF",
        "outputId": "0a449d88-45ce-49d5-a720-63e6d8f79490"
      },
      "outputs": [
        {
          "output_type": "stream",
          "name": "stdout",
          "text": [
            "Optimized DT achieved 91.7% accuracy.\n"
          ]
        }
      ],
      "source": [
        "# Initialize your final model\n",
        "dt_optimized = DecisionTreeClassifier(\n",
        "    min_samples_split = 6,\n",
        "    min_samples_leaf = 2,\n",
        "    max_features = 5,\n",
        "    random_state = 42)\n",
        "\n",
        "# Use both training and validation data to fit it (np.concatenate \"stacks\" the array like rbind in R)\n",
        "dt_optimized.fit(np.concatenate([X_train, X_val]), np.concatenate([y_train, y_val]))\n",
        "\n",
        "# Predict on test data\n",
        "y_test_hat_optimized = dt_optimized.predict(X_test)\n",
        "\n",
        "# Obtain and check accuracy on test data\n",
        "accuracy_optimized = accuracy_score(y_test_hat_optimized, y_test)\n",
        "print(f'Optimized DT achieved {round(accuracy_optimized * 100, 1)}% accuracy.')"
      ]
    }
  ],
  "metadata": {
    "kernelspec": {
      "display_name": "Python 3",
      "language": "python",
      "name": "python3"
    },
    "language_info": {
      "codemirror_mode": {
        "name": "ipython",
        "version": 3
      },
      "file_extension": ".py",
      "mimetype": "text/x-python",
      "name": "python",
      "nbconvert_exporter": "python",
      "pygments_lexer": "ipython3",
      "version": "3.7.1"
    },
    "colab": {
      "provenance": [],
      "include_colab_link": true
    }
  },
  "nbformat": 4,
  "nbformat_minor": 0
}