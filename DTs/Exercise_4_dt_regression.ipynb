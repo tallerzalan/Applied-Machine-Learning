{
  "cells": [
    {
      "cell_type": "markdown",
      "metadata": {
        "id": "view-in-github",
        "colab_type": "text"
      },
      "source": [
        "<a href=\"https://colab.research.google.com/github/tallerzalan/Applied-Machine-Learning/blob/main/DTs/Exercise_4_dt_regression.ipynb\" target=\"_parent\"><img src=\"https://colab.research.google.com/assets/colab-badge.svg\" alt=\"Open In Colab\"/></a>"
      ]
    },
    {
      "cell_type": "markdown",
      "metadata": {
        "id": "haUxIMCRU4yo"
      },
      "source": [
        "# Exercise - DTs for regression\n",
        "\n",
        "1. Use the $\\texttt{load_boston}$ data (remember to split your data into a train and test data). Using your training and validation data, optimize the parameters of your DT. How well does your optimized model perform on the test data? Is it better than your optimized SVM for the same data (the third exercise from last week)?\n",
        "1. (Optional/bonus): Try to perform standardization to your data. Does it improve your model? Further, try to select only the 5 most important features. Does it improve the performance of your model?\n",
        "\n",
        "**See slides for more details!**"
      ]
    },
    {
      "cell_type": "code",
      "execution_count": 156,
      "metadata": {
        "colab": {
          "base_uri": "https://localhost:8080/"
        },
        "id": "2c5I13HDU4yt",
        "outputId": "3ee57faa-8d7d-4ceb-c629-0201c5c866f2"
      },
      "outputs": [
        {
          "output_type": "stream",
          "name": "stdout",
          "text": [
            "(404, 13) (102, 13) (404,) (102,)\n",
            "(323, 13) (81, 13) (102, 13) (323,) (81,) (102,)\n"
          ]
        }
      ],
      "source": [
        "import warnings\n",
        "warnings.filterwarnings('ignore')\n",
        "\n",
        "from sklearn.datasets import load_boston\n",
        "from sklearn.model_selection import train_test_split\n",
        "from sklearn.metrics import mean_squared_error\n",
        "from sklearn import tree\n",
        "import pandas as pd\n",
        "import numpy as np\n",
        "\n",
        "X, y = load_boston(return_X_y = True)\n",
        "\n",
        "# Use `train_test_split` to split your data into a train and a test set.\n",
        "X_train, X_test, y_train, y_test = train_test_split(X,\n",
        "                                                    y,\n",
        "                                                    test_size = 0.2,\n",
        "                                                    random_state = 42)\n",
        "\n",
        "print(X_train.shape, X_test.shape, y_train.shape, y_test.shape)\n",
        "\n",
        "# Use `train_test_split` to split your train data into a train and a validation  set.\n",
        "X_train, X_val, y_train, y_val = train_test_split(X_train,\n",
        "                                                  y_train,\n",
        "                                                  test_size = 0.2,\n",
        "                                                  random_state = 42)\n",
        "\n",
        "print(X_train.shape, X_val.shape, X_test.shape, y_train.shape, y_val.shape, y_test.shape)"
      ]
    },
    {
      "cell_type": "markdown",
      "metadata": {
        "id": "WoCk2IFcU4yv"
      },
      "source": [
        "# Exercise 1\n",
        "\n",
        "Use the $\\texttt{load_boston}$ data (remember to split your data into a train and test data). Using your training and validation data, optimize the parameters of your DT. How well does your optimized model perform on the test data? Is it better than your optimized SVM for the same data (the third exercise from last week)?"
      ]
    },
    {
      "cell_type": "code",
      "execution_count": 157,
      "metadata": {
        "scrolled": false,
        "colab": {
          "base_uri": "https://localhost:8080/"
        },
        "id": "vIE4up1XU4yw",
        "outputId": "d8204c33-ba68-482c-a7f1-cc10fd0a942b"
      },
      "outputs": [
        {
          "output_type": "stream",
          "name": "stdout",
          "text": [
            "           MSE  min_samples_split  min_samples_leaf  max_features\n",
            "0    38.112002                  2                 2             2\n",
            "1    23.392092                  2                 2             3\n",
            "2    22.672788                  2                 2             4\n",
            "3    20.331605                  2                 2             5\n",
            "4    29.892040                  2                 2             6\n",
            "..         ...                ...               ...           ...\n",
            "724  20.205735                 10                10             6\n",
            "725  17.487001                 10                10             7\n",
            "726  20.724707                 10                10             8\n",
            "727  24.217607                 10                10             9\n",
            "728  22.886812                 10                10            10\n",
            "\n",
            "[729 rows x 4 columns]\n"
          ]
        }
      ],
      "source": [
        "min_samples_split_list = [min_split for min_split in np.arange(2, 11, 1)] # input values seperated by \",\".\n",
        "min_samples_leaf_list = [min_leaf for min_leaf in np.arange(2, 11, 1)] # iput values seperated by \",\".\n",
        "max_features_list = [max_feat for max_feat in np.arange(2, 11, 1)] # input values seperated by \",\".\n",
        "\n",
        "results = []\n",
        "\n",
        "for min_samples_split in min_samples_split_list:\n",
        "    for min_samples_leaf in min_samples_leaf_list:\n",
        "        for max_features in max_features_list:\n",
        "            dt_current = tree.DecisionTreeRegressor(\n",
        "                min_samples_split = min_samples_split,\n",
        "                min_samples_leaf = min_samples_leaf,\n",
        "                max_features = max_features,\n",
        "                random_state = 42)\n",
        "            dt_current.fit(X_train, y_train)\n",
        "            y_val_hat = dt_current.predict(X_val)\n",
        "            mse = mean_squared_error(y_val_hat, y_val)\n",
        "\n",
        "            results.append([mse, min_samples_split, min_samples_leaf, max_features])\n",
        "\n",
        "results = pd.DataFrame(results)\n",
        "results.columns = ['MSE', 'min_samples_split', 'min_samples_leaf', 'max_features']\n",
        "print(results)"
      ]
    },
    {
      "cell_type": "code",
      "execution_count": 158,
      "metadata": {
        "id": "XHyJKvo3U4yx",
        "colab": {
          "base_uri": "https://localhost:8080/",
          "height": 143
        },
        "outputId": "c7bf477c-5963-45aa-8d07-2cb15ca3a4a3"
      },
      "outputs": [
        {
          "output_type": "execute_result",
          "data": {
            "text/plain": [
              "           MSE  min_samples_split  min_samples_leaf  max_features\n",
              "5    12.051674                  2                 2             7\n",
              "86   12.051674                  3                 2             7\n",
              "167  12.051674                  4                 2             7"
            ],
            "text/html": [
              "\n",
              "  <div id=\"df-db809ad0-a960-467a-9a5d-138eb3765019\">\n",
              "    <div class=\"colab-df-container\">\n",
              "      <div>\n",
              "<style scoped>\n",
              "    .dataframe tbody tr th:only-of-type {\n",
              "        vertical-align: middle;\n",
              "    }\n",
              "\n",
              "    .dataframe tbody tr th {\n",
              "        vertical-align: top;\n",
              "    }\n",
              "\n",
              "    .dataframe thead th {\n",
              "        text-align: right;\n",
              "    }\n",
              "</style>\n",
              "<table border=\"1\" class=\"dataframe\">\n",
              "  <thead>\n",
              "    <tr style=\"text-align: right;\">\n",
              "      <th></th>\n",
              "      <th>MSE</th>\n",
              "      <th>min_samples_split</th>\n",
              "      <th>min_samples_leaf</th>\n",
              "      <th>max_features</th>\n",
              "    </tr>\n",
              "  </thead>\n",
              "  <tbody>\n",
              "    <tr>\n",
              "      <th>5</th>\n",
              "      <td>12.051674</td>\n",
              "      <td>2</td>\n",
              "      <td>2</td>\n",
              "      <td>7</td>\n",
              "    </tr>\n",
              "    <tr>\n",
              "      <th>86</th>\n",
              "      <td>12.051674</td>\n",
              "      <td>3</td>\n",
              "      <td>2</td>\n",
              "      <td>7</td>\n",
              "    </tr>\n",
              "    <tr>\n",
              "      <th>167</th>\n",
              "      <td>12.051674</td>\n",
              "      <td>4</td>\n",
              "      <td>2</td>\n",
              "      <td>7</td>\n",
              "    </tr>\n",
              "  </tbody>\n",
              "</table>\n",
              "</div>\n",
              "      <button class=\"colab-df-convert\" onclick=\"convertToInteractive('df-db809ad0-a960-467a-9a5d-138eb3765019')\"\n",
              "              title=\"Convert this dataframe to an interactive table.\"\n",
              "              style=\"display:none;\">\n",
              "        \n",
              "  <svg xmlns=\"http://www.w3.org/2000/svg\" height=\"24px\"viewBox=\"0 0 24 24\"\n",
              "       width=\"24px\">\n",
              "    <path d=\"M0 0h24v24H0V0z\" fill=\"none\"/>\n",
              "    <path d=\"M18.56 5.44l.94 2.06.94-2.06 2.06-.94-2.06-.94-.94-2.06-.94 2.06-2.06.94zm-11 1L8.5 8.5l.94-2.06 2.06-.94-2.06-.94L8.5 2.5l-.94 2.06-2.06.94zm10 10l.94 2.06.94-2.06 2.06-.94-2.06-.94-.94-2.06-.94 2.06-2.06.94z\"/><path d=\"M17.41 7.96l-1.37-1.37c-.4-.4-.92-.59-1.43-.59-.52 0-1.04.2-1.43.59L10.3 9.45l-7.72 7.72c-.78.78-.78 2.05 0 2.83L4 21.41c.39.39.9.59 1.41.59.51 0 1.02-.2 1.41-.59l7.78-7.78 2.81-2.81c.8-.78.8-2.07 0-2.86zM5.41 20L4 18.59l7.72-7.72 1.47 1.35L5.41 20z\"/>\n",
              "  </svg>\n",
              "      </button>\n",
              "      \n",
              "  <style>\n",
              "    .colab-df-container {\n",
              "      display:flex;\n",
              "      flex-wrap:wrap;\n",
              "      gap: 12px;\n",
              "    }\n",
              "\n",
              "    .colab-df-convert {\n",
              "      background-color: #E8F0FE;\n",
              "      border: none;\n",
              "      border-radius: 50%;\n",
              "      cursor: pointer;\n",
              "      display: none;\n",
              "      fill: #1967D2;\n",
              "      height: 32px;\n",
              "      padding: 0 0 0 0;\n",
              "      width: 32px;\n",
              "    }\n",
              "\n",
              "    .colab-df-convert:hover {\n",
              "      background-color: #E2EBFA;\n",
              "      box-shadow: 0px 1px 2px rgba(60, 64, 67, 0.3), 0px 1px 3px 1px rgba(60, 64, 67, 0.15);\n",
              "      fill: #174EA6;\n",
              "    }\n",
              "\n",
              "    [theme=dark] .colab-df-convert {\n",
              "      background-color: #3B4455;\n",
              "      fill: #D2E3FC;\n",
              "    }\n",
              "\n",
              "    [theme=dark] .colab-df-convert:hover {\n",
              "      background-color: #434B5C;\n",
              "      box-shadow: 0px 1px 3px 1px rgba(0, 0, 0, 0.15);\n",
              "      filter: drop-shadow(0px 1px 2px rgba(0, 0, 0, 0.3));\n",
              "      fill: #FFFFFF;\n",
              "    }\n",
              "  </style>\n",
              "\n",
              "      <script>\n",
              "        const buttonEl =\n",
              "          document.querySelector('#df-db809ad0-a960-467a-9a5d-138eb3765019 button.colab-df-convert');\n",
              "        buttonEl.style.display =\n",
              "          google.colab.kernel.accessAllowed ? 'block' : 'none';\n",
              "\n",
              "        async function convertToInteractive(key) {\n",
              "          const element = document.querySelector('#df-db809ad0-a960-467a-9a5d-138eb3765019');\n",
              "          const dataTable =\n",
              "            await google.colab.kernel.invokeFunction('convertToInteractive',\n",
              "                                                     [key], {});\n",
              "          if (!dataTable) return;\n",
              "\n",
              "          const docLinkHtml = 'Like what you see? Visit the ' +\n",
              "            '<a target=\"_blank\" href=https://colab.research.google.com/notebooks/data_table.ipynb>data table notebook</a>'\n",
              "            + ' to learn more about interactive tables.';\n",
              "          element.innerHTML = '';\n",
              "          dataTable['output_type'] = 'display_data';\n",
              "          await google.colab.output.renderOutput(dataTable, element);\n",
              "          const docLink = document.createElement('div');\n",
              "          docLink.innerHTML = docLinkHtml;\n",
              "          element.appendChild(docLink);\n",
              "        }\n",
              "      </script>\n",
              "    </div>\n",
              "  </div>\n",
              "  "
            ]
          },
          "metadata": {},
          "execution_count": 158
        }
      ],
      "source": [
        "# Extract best parameters.\n",
        "results[results['MSE'] == results['MSE'].min()]"
      ]
    },
    {
      "cell_type": "code",
      "execution_count": 159,
      "metadata": {
        "id": "O6afBsC_U4yy",
        "colab": {
          "base_uri": "https://localhost:8080/"
        },
        "outputId": "4d802eef-9ac3-4ef2-b364-c6509e1531a4"
      },
      "outputs": [
        {
          "output_type": "stream",
          "name": "stdout",
          "text": [
            "Optimized DT achieved MSE = 20.54.\n"
          ]
        }
      ],
      "source": [
        "# Initialize your final model\n",
        "dt_optimized = tree.DecisionTreeRegressor(\n",
        "    min_samples_split = 4,\n",
        "    min_samples_leaf = 2,\n",
        "    max_features = 7,\n",
        "    random_state = 42\n",
        "    )\n",
        "\n",
        "# Use both training and validation data to fit it (np.concatenate \"stacks\" the array like rbind in R)\n",
        "dt_optimized.fit(np.concatenate([X_train, X_val]), np.concatenate([y_train, y_val]))\n",
        "\n",
        "# Predict on test data\n",
        "y_test_hat_optimized = dt_optimized.predict(X_test)\n",
        "\n",
        "# Obtain and check mse on test data\n",
        "mse_optimized = mean_squared_error(y_test_hat_optimized, y_test)\n",
        "print(f'Optimized DT achieved MSE = {round(mse_optimized, 2)}.')"
      ]
    },
    {
      "cell_type": "markdown",
      "metadata": {
        "id": "nbLtw0caU4yz"
      },
      "source": [
        "# Exercise 2. (Optional/Bonus)\n",
        "\n",
        "Try to perform standardization the your data. Does it improve the model?"
      ]
    },
    {
      "cell_type": "code",
      "source": [
        "from sklearn.preprocessing import StandardScaler\n",
        "\n",
        "scaler = StandardScaler()\n",
        "X_train = scaler.fit_transform(X_train)\n",
        "X_val = scaler.transform(X_val)\n",
        "X_test = scaler.transform(X_test)"
      ],
      "metadata": {
        "id": "S7jX7SQZ0v6z"
      },
      "execution_count": 160,
      "outputs": []
    },
    {
      "cell_type": "code",
      "source": [
        "min_samples_split_list = [min_split for min_split in np.arange(2, 11, 1)] # input values seperated by \",\".\n",
        "min_samples_leaf_list = [min_leaf for min_leaf in np.arange(2, 11, 1)] # iput values seperated by \",\".\n",
        "max_features_list = [max_feat for max_feat in np.arange(2, 11, 1)] # input values seperated by \",\".\n",
        "\n",
        "results = []\n",
        "\n",
        "for min_samples_split in min_samples_split_list:\n",
        "    for min_samples_leaf in min_samples_leaf_list:\n",
        "        for max_features in max_features_list:\n",
        "            dt_current = tree.DecisionTreeRegressor(\n",
        "                min_samples_split = min_samples_split,\n",
        "                min_samples_leaf = min_samples_leaf,\n",
        "                max_features = max_features,\n",
        "                random_state = 42)\n",
        "            dt_current.fit(X_train, y_train)\n",
        "            y_val_hat = dt_current.predict(X_val)\n",
        "            mse = mean_squared_error(y_val_hat, y_val)\n",
        "\n",
        "            results.append([mse, min_samples_split, min_samples_leaf, max_features])\n",
        "\n",
        "results = pd.DataFrame(results)\n",
        "results.columns = ['MSE', 'min_samples_split', 'min_samples_leaf', 'max_features']\n",
        "print(results)"
      ],
      "metadata": {
        "colab": {
          "base_uri": "https://localhost:8080/"
        },
        "id": "eYl0h4IN1Y9i",
        "outputId": "37852aa0-b5c9-47c6-d387-6086a8e10d29"
      },
      "execution_count": 161,
      "outputs": [
        {
          "output_type": "stream",
          "name": "stdout",
          "text": [
            "           MSE  min_samples_split  min_samples_leaf  max_features\n",
            "0    38.112002                  2                 2             2\n",
            "1    23.392092                  2                 2             3\n",
            "2    22.672788                  2                 2             4\n",
            "3    20.331605                  2                 2             5\n",
            "4    29.329448                  2                 2             6\n",
            "..         ...                ...               ...           ...\n",
            "724  20.205735                 10                10             6\n",
            "725  17.487001                 10                10             7\n",
            "726  20.724707                 10                10             8\n",
            "727  24.217607                 10                10             9\n",
            "728  22.886812                 10                10            10\n",
            "\n",
            "[729 rows x 4 columns]\n"
          ]
        }
      ]
    },
    {
      "cell_type": "code",
      "source": [
        "# Extract best parameters.\n",
        "results[results['MSE'] == results['MSE'].min()]"
      ],
      "metadata": {
        "colab": {
          "base_uri": "https://localhost:8080/",
          "height": 143
        },
        "id": "zjSG_DM64Jq1",
        "outputId": "2d907f92-57fe-41e4-992d-c2f6d08f13d6"
      },
      "execution_count": 162,
      "outputs": [
        {
          "output_type": "execute_result",
          "data": {
            "text/plain": [
              "           MSE  min_samples_split  min_samples_leaf  max_features\n",
              "5    11.326759                  2                 2             7\n",
              "86   11.326759                  3                 2             7\n",
              "167  11.326759                  4                 2             7"
            ],
            "text/html": [
              "\n",
              "  <div id=\"df-0da37561-1fb6-483b-8756-db3f3ec80b3b\">\n",
              "    <div class=\"colab-df-container\">\n",
              "      <div>\n",
              "<style scoped>\n",
              "    .dataframe tbody tr th:only-of-type {\n",
              "        vertical-align: middle;\n",
              "    }\n",
              "\n",
              "    .dataframe tbody tr th {\n",
              "        vertical-align: top;\n",
              "    }\n",
              "\n",
              "    .dataframe thead th {\n",
              "        text-align: right;\n",
              "    }\n",
              "</style>\n",
              "<table border=\"1\" class=\"dataframe\">\n",
              "  <thead>\n",
              "    <tr style=\"text-align: right;\">\n",
              "      <th></th>\n",
              "      <th>MSE</th>\n",
              "      <th>min_samples_split</th>\n",
              "      <th>min_samples_leaf</th>\n",
              "      <th>max_features</th>\n",
              "    </tr>\n",
              "  </thead>\n",
              "  <tbody>\n",
              "    <tr>\n",
              "      <th>5</th>\n",
              "      <td>11.326759</td>\n",
              "      <td>2</td>\n",
              "      <td>2</td>\n",
              "      <td>7</td>\n",
              "    </tr>\n",
              "    <tr>\n",
              "      <th>86</th>\n",
              "      <td>11.326759</td>\n",
              "      <td>3</td>\n",
              "      <td>2</td>\n",
              "      <td>7</td>\n",
              "    </tr>\n",
              "    <tr>\n",
              "      <th>167</th>\n",
              "      <td>11.326759</td>\n",
              "      <td>4</td>\n",
              "      <td>2</td>\n",
              "      <td>7</td>\n",
              "    </tr>\n",
              "  </tbody>\n",
              "</table>\n",
              "</div>\n",
              "      <button class=\"colab-df-convert\" onclick=\"convertToInteractive('df-0da37561-1fb6-483b-8756-db3f3ec80b3b')\"\n",
              "              title=\"Convert this dataframe to an interactive table.\"\n",
              "              style=\"display:none;\">\n",
              "        \n",
              "  <svg xmlns=\"http://www.w3.org/2000/svg\" height=\"24px\"viewBox=\"0 0 24 24\"\n",
              "       width=\"24px\">\n",
              "    <path d=\"M0 0h24v24H0V0z\" fill=\"none\"/>\n",
              "    <path d=\"M18.56 5.44l.94 2.06.94-2.06 2.06-.94-2.06-.94-.94-2.06-.94 2.06-2.06.94zm-11 1L8.5 8.5l.94-2.06 2.06-.94-2.06-.94L8.5 2.5l-.94 2.06-2.06.94zm10 10l.94 2.06.94-2.06 2.06-.94-2.06-.94-.94-2.06-.94 2.06-2.06.94z\"/><path d=\"M17.41 7.96l-1.37-1.37c-.4-.4-.92-.59-1.43-.59-.52 0-1.04.2-1.43.59L10.3 9.45l-7.72 7.72c-.78.78-.78 2.05 0 2.83L4 21.41c.39.39.9.59 1.41.59.51 0 1.02-.2 1.41-.59l7.78-7.78 2.81-2.81c.8-.78.8-2.07 0-2.86zM5.41 20L4 18.59l7.72-7.72 1.47 1.35L5.41 20z\"/>\n",
              "  </svg>\n",
              "      </button>\n",
              "      \n",
              "  <style>\n",
              "    .colab-df-container {\n",
              "      display:flex;\n",
              "      flex-wrap:wrap;\n",
              "      gap: 12px;\n",
              "    }\n",
              "\n",
              "    .colab-df-convert {\n",
              "      background-color: #E8F0FE;\n",
              "      border: none;\n",
              "      border-radius: 50%;\n",
              "      cursor: pointer;\n",
              "      display: none;\n",
              "      fill: #1967D2;\n",
              "      height: 32px;\n",
              "      padding: 0 0 0 0;\n",
              "      width: 32px;\n",
              "    }\n",
              "\n",
              "    .colab-df-convert:hover {\n",
              "      background-color: #E2EBFA;\n",
              "      box-shadow: 0px 1px 2px rgba(60, 64, 67, 0.3), 0px 1px 3px 1px rgba(60, 64, 67, 0.15);\n",
              "      fill: #174EA6;\n",
              "    }\n",
              "\n",
              "    [theme=dark] .colab-df-convert {\n",
              "      background-color: #3B4455;\n",
              "      fill: #D2E3FC;\n",
              "    }\n",
              "\n",
              "    [theme=dark] .colab-df-convert:hover {\n",
              "      background-color: #434B5C;\n",
              "      box-shadow: 0px 1px 3px 1px rgba(0, 0, 0, 0.15);\n",
              "      filter: drop-shadow(0px 1px 2px rgba(0, 0, 0, 0.3));\n",
              "      fill: #FFFFFF;\n",
              "    }\n",
              "  </style>\n",
              "\n",
              "      <script>\n",
              "        const buttonEl =\n",
              "          document.querySelector('#df-0da37561-1fb6-483b-8756-db3f3ec80b3b button.colab-df-convert');\n",
              "        buttonEl.style.display =\n",
              "          google.colab.kernel.accessAllowed ? 'block' : 'none';\n",
              "\n",
              "        async function convertToInteractive(key) {\n",
              "          const element = document.querySelector('#df-0da37561-1fb6-483b-8756-db3f3ec80b3b');\n",
              "          const dataTable =\n",
              "            await google.colab.kernel.invokeFunction('convertToInteractive',\n",
              "                                                     [key], {});\n",
              "          if (!dataTable) return;\n",
              "\n",
              "          const docLinkHtml = 'Like what you see? Visit the ' +\n",
              "            '<a target=\"_blank\" href=https://colab.research.google.com/notebooks/data_table.ipynb>data table notebook</a>'\n",
              "            + ' to learn more about interactive tables.';\n",
              "          element.innerHTML = '';\n",
              "          dataTable['output_type'] = 'display_data';\n",
              "          await google.colab.output.renderOutput(dataTable, element);\n",
              "          const docLink = document.createElement('div');\n",
              "          docLink.innerHTML = docLinkHtml;\n",
              "          element.appendChild(docLink);\n",
              "        }\n",
              "      </script>\n",
              "    </div>\n",
              "  </div>\n",
              "  "
            ]
          },
          "metadata": {},
          "execution_count": 162
        }
      ]
    },
    {
      "cell_type": "code",
      "source": [
        "# Initialize your final model\n",
        "dt_optimized = tree.DecisionTreeRegressor(\n",
        "    min_samples_split = 4,\n",
        "    min_samples_leaf = 2,\n",
        "    max_features = 7,\n",
        "    random_state = 42\n",
        "    )\n",
        "\n",
        "# Use both training and validation data to fit it (np.concatenate \"stacks\" the array like rbind in R)\n",
        "dt_optimized.fit(np.concatenate([X_train, X_val]), np.concatenate([y_train, y_val]))\n",
        "\n",
        "# Predict on test data\n",
        "y_test_hat_optimized = dt_optimized.predict(X_test)\n",
        "\n",
        "# Obtain and check mse on test data\n",
        "mse_optimized = mean_squared_error(y_test_hat_optimized, y_test)\n",
        "print(f'Optimized DT achieved MSE = {round(mse_optimized, 2)}.')"
      ],
      "metadata": {
        "colab": {
          "base_uri": "https://localhost:8080/"
        },
        "id": "6bvHAdg04MHN",
        "outputId": "105131c8-f377-4925-b03d-8ce0fc65424c"
      },
      "execution_count": 163,
      "outputs": [
        {
          "output_type": "stream",
          "name": "stdout",
          "text": [
            "Optimized DT achieved MSE = 20.54.\n"
          ]
        }
      ]
    },
    {
      "cell_type": "markdown",
      "source": [
        "# Exercise 3. (Optional/Bonus)\n",
        "\n",
        "Try to select only the 5 most important features. Does it improve the performance of your model?"
      ],
      "metadata": {
        "id": "i45pYeiU5cZz"
      }
    },
    {
      "cell_type": "code",
      "source": [
        "importances = dt_optimized.feature_importances_\n",
        "names = load_boston()['feature_names']\n",
        "\n",
        "feature_importance = pd.DataFrame(zip(names, importances), columns = ['Feature', 'Importance'])\n",
        "feature_importance = feature_importance.sort_values('Importance', ascending = False).reset_index()\n",
        "feature_importance[:10]"
      ],
      "metadata": {
        "colab": {
          "base_uri": "https://localhost:8080/",
          "height": 363
        },
        "id": "mrO8sLdp7PCH",
        "outputId": "dca30685-7c59-498e-c340-4495a79d1670"
      },
      "execution_count": 164,
      "outputs": [
        {
          "output_type": "execute_result",
          "data": {
            "text/plain": [
              "   index  Feature  Importance\n",
              "0      5       RM    0.543464\n",
              "1     12    LSTAT    0.134752\n",
              "2      4      NOX    0.120257\n",
              "3      8      RAD    0.083960\n",
              "4      0     CRIM    0.033290\n",
              "5      7      DIS    0.021065\n",
              "6      6      AGE    0.015894\n",
              "7     11        B    0.015691\n",
              "8     10  PTRATIO    0.014857\n",
              "9      9      TAX    0.012841"
            ],
            "text/html": [
              "\n",
              "  <div id=\"df-d0a738bc-d856-4866-aade-41f1a3ecc077\">\n",
              "    <div class=\"colab-df-container\">\n",
              "      <div>\n",
              "<style scoped>\n",
              "    .dataframe tbody tr th:only-of-type {\n",
              "        vertical-align: middle;\n",
              "    }\n",
              "\n",
              "    .dataframe tbody tr th {\n",
              "        vertical-align: top;\n",
              "    }\n",
              "\n",
              "    .dataframe thead th {\n",
              "        text-align: right;\n",
              "    }\n",
              "</style>\n",
              "<table border=\"1\" class=\"dataframe\">\n",
              "  <thead>\n",
              "    <tr style=\"text-align: right;\">\n",
              "      <th></th>\n",
              "      <th>index</th>\n",
              "      <th>Feature</th>\n",
              "      <th>Importance</th>\n",
              "    </tr>\n",
              "  </thead>\n",
              "  <tbody>\n",
              "    <tr>\n",
              "      <th>0</th>\n",
              "      <td>5</td>\n",
              "      <td>RM</td>\n",
              "      <td>0.543464</td>\n",
              "    </tr>\n",
              "    <tr>\n",
              "      <th>1</th>\n",
              "      <td>12</td>\n",
              "      <td>LSTAT</td>\n",
              "      <td>0.134752</td>\n",
              "    </tr>\n",
              "    <tr>\n",
              "      <th>2</th>\n",
              "      <td>4</td>\n",
              "      <td>NOX</td>\n",
              "      <td>0.120257</td>\n",
              "    </tr>\n",
              "    <tr>\n",
              "      <th>3</th>\n",
              "      <td>8</td>\n",
              "      <td>RAD</td>\n",
              "      <td>0.083960</td>\n",
              "    </tr>\n",
              "    <tr>\n",
              "      <th>4</th>\n",
              "      <td>0</td>\n",
              "      <td>CRIM</td>\n",
              "      <td>0.033290</td>\n",
              "    </tr>\n",
              "    <tr>\n",
              "      <th>5</th>\n",
              "      <td>7</td>\n",
              "      <td>DIS</td>\n",
              "      <td>0.021065</td>\n",
              "    </tr>\n",
              "    <tr>\n",
              "      <th>6</th>\n",
              "      <td>6</td>\n",
              "      <td>AGE</td>\n",
              "      <td>0.015894</td>\n",
              "    </tr>\n",
              "    <tr>\n",
              "      <th>7</th>\n",
              "      <td>11</td>\n",
              "      <td>B</td>\n",
              "      <td>0.015691</td>\n",
              "    </tr>\n",
              "    <tr>\n",
              "      <th>8</th>\n",
              "      <td>10</td>\n",
              "      <td>PTRATIO</td>\n",
              "      <td>0.014857</td>\n",
              "    </tr>\n",
              "    <tr>\n",
              "      <th>9</th>\n",
              "      <td>9</td>\n",
              "      <td>TAX</td>\n",
              "      <td>0.012841</td>\n",
              "    </tr>\n",
              "  </tbody>\n",
              "</table>\n",
              "</div>\n",
              "      <button class=\"colab-df-convert\" onclick=\"convertToInteractive('df-d0a738bc-d856-4866-aade-41f1a3ecc077')\"\n",
              "              title=\"Convert this dataframe to an interactive table.\"\n",
              "              style=\"display:none;\">\n",
              "        \n",
              "  <svg xmlns=\"http://www.w3.org/2000/svg\" height=\"24px\"viewBox=\"0 0 24 24\"\n",
              "       width=\"24px\">\n",
              "    <path d=\"M0 0h24v24H0V0z\" fill=\"none\"/>\n",
              "    <path d=\"M18.56 5.44l.94 2.06.94-2.06 2.06-.94-2.06-.94-.94-2.06-.94 2.06-2.06.94zm-11 1L8.5 8.5l.94-2.06 2.06-.94-2.06-.94L8.5 2.5l-.94 2.06-2.06.94zm10 10l.94 2.06.94-2.06 2.06-.94-2.06-.94-.94-2.06-.94 2.06-2.06.94z\"/><path d=\"M17.41 7.96l-1.37-1.37c-.4-.4-.92-.59-1.43-.59-.52 0-1.04.2-1.43.59L10.3 9.45l-7.72 7.72c-.78.78-.78 2.05 0 2.83L4 21.41c.39.39.9.59 1.41.59.51 0 1.02-.2 1.41-.59l7.78-7.78 2.81-2.81c.8-.78.8-2.07 0-2.86zM5.41 20L4 18.59l7.72-7.72 1.47 1.35L5.41 20z\"/>\n",
              "  </svg>\n",
              "      </button>\n",
              "      \n",
              "  <style>\n",
              "    .colab-df-container {\n",
              "      display:flex;\n",
              "      flex-wrap:wrap;\n",
              "      gap: 12px;\n",
              "    }\n",
              "\n",
              "    .colab-df-convert {\n",
              "      background-color: #E8F0FE;\n",
              "      border: none;\n",
              "      border-radius: 50%;\n",
              "      cursor: pointer;\n",
              "      display: none;\n",
              "      fill: #1967D2;\n",
              "      height: 32px;\n",
              "      padding: 0 0 0 0;\n",
              "      width: 32px;\n",
              "    }\n",
              "\n",
              "    .colab-df-convert:hover {\n",
              "      background-color: #E2EBFA;\n",
              "      box-shadow: 0px 1px 2px rgba(60, 64, 67, 0.3), 0px 1px 3px 1px rgba(60, 64, 67, 0.15);\n",
              "      fill: #174EA6;\n",
              "    }\n",
              "\n",
              "    [theme=dark] .colab-df-convert {\n",
              "      background-color: #3B4455;\n",
              "      fill: #D2E3FC;\n",
              "    }\n",
              "\n",
              "    [theme=dark] .colab-df-convert:hover {\n",
              "      background-color: #434B5C;\n",
              "      box-shadow: 0px 1px 3px 1px rgba(0, 0, 0, 0.15);\n",
              "      filter: drop-shadow(0px 1px 2px rgba(0, 0, 0, 0.3));\n",
              "      fill: #FFFFFF;\n",
              "    }\n",
              "  </style>\n",
              "\n",
              "      <script>\n",
              "        const buttonEl =\n",
              "          document.querySelector('#df-d0a738bc-d856-4866-aade-41f1a3ecc077 button.colab-df-convert');\n",
              "        buttonEl.style.display =\n",
              "          google.colab.kernel.accessAllowed ? 'block' : 'none';\n",
              "\n",
              "        async function convertToInteractive(key) {\n",
              "          const element = document.querySelector('#df-d0a738bc-d856-4866-aade-41f1a3ecc077');\n",
              "          const dataTable =\n",
              "            await google.colab.kernel.invokeFunction('convertToInteractive',\n",
              "                                                     [key], {});\n",
              "          if (!dataTable) return;\n",
              "\n",
              "          const docLinkHtml = 'Like what you see? Visit the ' +\n",
              "            '<a target=\"_blank\" href=https://colab.research.google.com/notebooks/data_table.ipynb>data table notebook</a>'\n",
              "            + ' to learn more about interactive tables.';\n",
              "          element.innerHTML = '';\n",
              "          dataTable['output_type'] = 'display_data';\n",
              "          await google.colab.output.renderOutput(dataTable, element);\n",
              "          const docLink = document.createElement('div');\n",
              "          docLink.innerHTML = docLinkHtml;\n",
              "          element.appendChild(docLink);\n",
              "        }\n",
              "      </script>\n",
              "    </div>\n",
              "  </div>\n",
              "  "
            ]
          },
          "metadata": {},
          "execution_count": 164
        }
      ]
    },
    {
      "cell_type": "code",
      "source": [
        "from matplotlib import pyplot as plt\n",
        "\n",
        "plt.figure()\n",
        "plt.title(\"Feature importances\")\n",
        "plt.bar(feature_importance['Feature'][:3], feature_importance['Importance'][:3])\n",
        "plt.show()"
      ],
      "metadata": {
        "colab": {
          "base_uri": "https://localhost:8080/",
          "height": 281
        },
        "id": "X5d33BMD7i7l",
        "outputId": "d74ba629-2e4b-45cb-e0d0-546d060d98ff"
      },
      "execution_count": 165,
      "outputs": [
        {
          "output_type": "display_data",
          "data": {
            "text/plain": [
              "<Figure size 432x288 with 1 Axes>"
            ],
            "image/png": "[encoded data removed]"
          },
          "metadata": {
            "needs_background": "light"
          }
        }
      ]
    },
    {
      "cell_type": "code",
      "source": [
        "top_features = (-importances).argsort()[:5]\n",
        "print(top_features)\n",
        "\n",
        "Z_train = X_train[:, top_features]\n",
        "Z_test = X_test[:, top_features]\n",
        "\n",
        "# Initialize a DT\n",
        "dt = tree.DecisionTreeRegressor(random_state = 42)\n",
        "\n",
        "# Fit your DT (on the Zs, i.e. the top featueres)\n",
        "dt.fit(Z_train, y_train)\n",
        "\n",
        "# Predict on your test data with your DT\n",
        "y_test_hat = dt.predict(Z_test)\n",
        "\n",
        "# Obtain accuracy by using the `accuracy_score` function\n",
        "mse_optimized = mean_squared_error(y_test_hat, y_test)\n",
        "\n",
        "print(f'Optimized DT achieved MSE = {round(mse_optimized, 2)}.')"
      ],
      "metadata": {
        "colab": {
          "base_uri": "https://localhost:8080/"
        },
        "id": "CUayncTD7jdq",
        "outputId": "7b52295a-bf24-449e-f116-9c20e5535b99"
      },
      "execution_count": 166,
      "outputs": [
        {
          "output_type": "stream",
          "name": "stdout",
          "text": [
            "[ 5 12  4  8  0]\n",
            "Optimized DT achieved MSE = 30.95.\n"
          ]
        }
      ]
    }
  ],
  "metadata": {
    "kernelspec": {
      "display_name": "Python 3",
      "language": "python",
      "name": "python3"
    },
    "language_info": {
      "codemirror_mode": {
        "name": "ipython",
        "version": 3
      },
      "file_extension": ".py",
      "mimetype": "text/x-python",
      "name": "python",
      "nbconvert_exporter": "python",
      "pygments_lexer": "ipython3",
      "version": "3.7.1"
    },
    "colab": {
      "provenance": [],
      "include_colab_link": true
    }
  },
  "nbformat": 4,
  "nbformat_minor": 0
}