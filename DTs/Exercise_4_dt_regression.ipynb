{
  "cells": [
    {
      "cell_type": "markdown",
      "metadata": {
        "id": "view-in-github",
        "colab_type": "text"
      },
      "source": [
        "<a href=\"https://colab.research.google.com/github/tallerzalan/Applied-Machine-Learning/blob/main/DTs/Exercise_4_dt_regression.ipynb\" target=\"_parent\"><img src=\"https://colab.research.google.com/assets/colab-badge.svg\" alt=\"Open In Colab\"/></a>"
      ]
    },
    {
      "cell_type": "markdown",
      "metadata": {
        "id": "haUxIMCRU4yo"
      },
      "source": [
        "# Exercise - DTs for regression\n",
        "\n",
        "1. Use the $\\texttt{load_boston}$ data (remember to split your data into a train and test data). Using your training and validation data, optimize the parameters of your DT. How well does your optimized model perform on the test data? Is it better than your optimized SVM for the same data (the third exercise from last week)?\n",
        "1. (Optional/bonus): Try to perform standardization to your data. Does it improve your model? Further, try to select only the 5 most important features. Does it improve the performance of your model?\n",
        "\n",
        "**See slides for more details!**"
      ]
    },
    {
      "cell_type": "code",
      "execution_count": 40,
      "metadata": {
        "colab": {
          "base_uri": "https://localhost:8080/"
        },
        "id": "2c5I13HDU4yt",
        "outputId": "edeeb28a-3f43-40ba-8ff8-d6ce4263fba5"
      },
      "outputs": [
        {
          "output_type": "stream",
          "name": "stdout",
          "text": [
            "(404, 13) (102, 13) (404,) (102,)\n",
            "(323, 13) (81, 13) (102, 13) (323,) (81,) (102,)\n"
          ]
        }
      ],
      "source": [
        "import warnings\n",
        "warnings.filterwarnings('ignore')\n",
        "\n",
        "from sklearn.datasets import load_boston\n",
        "from sklearn.model_selection import train_test_split\n",
        "from sklearn.metrics import mean_squared_error\n",
        "from sklearn import tree\n",
        "from sklearn.preprocessing import StandardScaler\n",
        "import pandas as pd\n",
        "import numpy as np\n",
        "\n",
        "X, y = load_boston(return_X_y = True)\n",
        "\n",
        "# Use `train_test_split` to split your data into a train and a test set.\n",
        "X_train, X_test, y_train, y_test = train_test_split(X,\n",
        "                                                    y,\n",
        "                                                    test_size = 0.2,\n",
        "                                                    random_state = 42)\n",
        "\n",
        "print(X_train.shape, X_test.shape, y_train.shape, y_test.shape)\n",
        "\n",
        "# Use `train_test_split` to split your train data into a train and a validation  set.\n",
        "X_train, X_val, y_train, y_val = train_test_split(X_train,\n",
        "                                                  y_train,\n",
        "                                                  test_size = 0.2,\n",
        "                                                  random_state = 42)\n",
        "\n",
        "print(X_train.shape, X_val.shape, X_test.shape, y_train.shape, y_val.shape, y_test.shape)"
      ]
    },
    {
      "cell_type": "markdown",
      "metadata": {
        "id": "WoCk2IFcU4yv"
      },
      "source": [
        "# Exercise 1\n",
        "\n",
        "Use the $\\texttt{load_boston}$ data (remember to split your data into a train and test data). Using your training and validation data, optimize the parameters of your DT. How well does your optimized model perform on the test data? Is it better than your optimized SVM for the same data (the third exercise from last week)?"
      ]
    },
    {
      "cell_type": "code",
      "execution_count": 41,
      "metadata": {
        "scrolled": false,
        "colab": {
          "base_uri": "https://localhost:8080/"
        },
        "id": "vIE4up1XU4yw",
        "outputId": "13f0be3c-4edb-438f-89cc-4f20878ad703"
      },
      "outputs": [
        {
          "output_type": "stream",
          "name": "stdout",
          "text": [
            "           MSE  min_samples_split  min_samples_leaf  max_features\n",
            "0    37.197821                  2                 2             2\n",
            "1    22.529417                  2                 2             3\n",
            "2    28.711638                  2                 2             4\n",
            "3    27.963416                  2                 2             5\n",
            "4    20.210195                  2                 2             6\n",
            "..         ...                ...               ...           ...\n",
            "724  27.920179                 10                10             6\n",
            "725  32.711158                 10                10             7\n",
            "726  33.023648                 10                10             8\n",
            "727  22.787196                 10                10             9\n",
            "728  24.069593                 10                10            10\n",
            "\n",
            "[729 rows x 4 columns]\n"
          ]
        }
      ],
      "source": [
        "min_samples_split_list = [min_split for min_split in np.arange(2, 11, 1)] # input values seperated by \",\".\n",
        "min_samples_leaf_list = [min_leaf for min_leaf in np.arange(2, 11, 1)] # iput values seperated by \",\".\n",
        "max_features_list = [max_feat for max_feat in np.arange(2, 11, 1)] # input values seperated by \",\".\n",
        "\n",
        "results = []\n",
        "\n",
        "for min_samples_split in min_samples_split_list:\n",
        "    for min_samples_leaf in min_samples_leaf_list:\n",
        "        for max_features in max_features_list:\n",
        "            dt_current = tree.DecisionTreeRegressor(\n",
        "                min_samples_split = min_samples_split,\n",
        "                min_samples_leaf = min_samples_leaf,\n",
        "                max_features = max_features,\n",
        "                random_state = 1)\n",
        "            dt_current.fit(X_train, y_train)\n",
        "            y_val_hat = dt_current.predict(X_val)\n",
        "            mse = mean_squared_error(y_val_hat, y_val)\n",
        "\n",
        "            results.append([mse, min_samples_split, min_samples_leaf, max_features])\n",
        "\n",
        "results = pd.DataFrame(results)\n",
        "results.columns = ['MSE', 'min_samples_split', 'min_samples_leaf', 'max_features']\n",
        "print(results)"
      ]
    },
    {
      "cell_type": "code",
      "execution_count": 42,
      "metadata": {
        "id": "XHyJKvo3U4yx",
        "colab": {
          "base_uri": "https://localhost:8080/",
          "height": 81
        },
        "outputId": "8e18e05a-a9db-4e00-aa10-505ec3f82f52"
      },
      "outputs": [
        {
          "output_type": "execute_result",
          "data": {
            "text/plain": [
              "           MSE  min_samples_split  min_samples_leaf  max_features\n",
              "584  12.412906                  9                 3            10"
            ],
            "text/html": [
              "\n",
              "  <div id=\"df-9cbe9070-fef0-4ba1-bf9b-defb97e48589\">\n",
              "    <div class=\"colab-df-container\">\n",
              "      <div>\n",
              "<style scoped>\n",
              "    .dataframe tbody tr th:only-of-type {\n",
              "        vertical-align: middle;\n",
              "    }\n",
              "\n",
              "    .dataframe tbody tr th {\n",
              "        vertical-align: top;\n",
              "    }\n",
              "\n",
              "    .dataframe thead th {\n",
              "        text-align: right;\n",
              "    }\n",
              "</style>\n",
              "<table border=\"1\" class=\"dataframe\">\n",
              "  <thead>\n",
              "    <tr style=\"text-align: right;\">\n",
              "      <th></th>\n",
              "      <th>MSE</th>\n",
              "      <th>min_samples_split</th>\n",
              "      <th>min_samples_leaf</th>\n",
              "      <th>max_features</th>\n",
              "    </tr>\n",
              "  </thead>\n",
              "  <tbody>\n",
              "    <tr>\n",
              "      <th>584</th>\n",
              "      <td>12.412906</td>\n",
              "      <td>9</td>\n",
              "      <td>3</td>\n",
              "      <td>10</td>\n",
              "    </tr>\n",
              "  </tbody>\n",
              "</table>\n",
              "</div>\n",
              "      <button class=\"colab-df-convert\" onclick=\"convertToInteractive('df-9cbe9070-fef0-4ba1-bf9b-defb97e48589')\"\n",
              "              title=\"Convert this dataframe to an interactive table.\"\n",
              "              style=\"display:none;\">\n",
              "        \n",
              "  <svg xmlns=\"http://www.w3.org/2000/svg\" height=\"24px\"viewBox=\"0 0 24 24\"\n",
              "       width=\"24px\">\n",
              "    <path d=\"M0 0h24v24H0V0z\" fill=\"none\"/>\n",
              "    <path d=\"M18.56 5.44l.94 2.06.94-2.06 2.06-.94-2.06-.94-.94-2.06-.94 2.06-2.06.94zm-11 1L8.5 8.5l.94-2.06 2.06-.94-2.06-.94L8.5 2.5l-.94 2.06-2.06.94zm10 10l.94 2.06.94-2.06 2.06-.94-2.06-.94-.94-2.06-.94 2.06-2.06.94z\"/><path d=\"M17.41 7.96l-1.37-1.37c-.4-.4-.92-.59-1.43-.59-.52 0-1.04.2-1.43.59L10.3 9.45l-7.72 7.72c-.78.78-.78 2.05 0 2.83L4 21.41c.39.39.9.59 1.41.59.51 0 1.02-.2 1.41-.59l7.78-7.78 2.81-2.81c.8-.78.8-2.07 0-2.86zM5.41 20L4 18.59l7.72-7.72 1.47 1.35L5.41 20z\"/>\n",
              "  </svg>\n",
              "      </button>\n",
              "      \n",
              "  <style>\n",
              "    .colab-df-container {\n",
              "      display:flex;\n",
              "      flex-wrap:wrap;\n",
              "      gap: 12px;\n",
              "    }\n",
              "\n",
              "    .colab-df-convert {\n",
              "      background-color: #E8F0FE;\n",
              "      border: none;\n",
              "      border-radius: 50%;\n",
              "      cursor: pointer;\n",
              "      display: none;\n",
              "      fill: #1967D2;\n",
              "      height: 32px;\n",
              "      padding: 0 0 0 0;\n",
              "      width: 32px;\n",
              "    }\n",
              "\n",
              "    .colab-df-convert:hover {\n",
              "      background-color: #E2EBFA;\n",
              "      box-shadow: 0px 1px 2px rgba(60, 64, 67, 0.3), 0px 1px 3px 1px rgba(60, 64, 67, 0.15);\n",
              "      fill: #174EA6;\n",
              "    }\n",
              "\n",
              "    [theme=dark] .colab-df-convert {\n",
              "      background-color: #3B4455;\n",
              "      fill: #D2E3FC;\n",
              "    }\n",
              "\n",
              "    [theme=dark] .colab-df-convert:hover {\n",
              "      background-color: #434B5C;\n",
              "      box-shadow: 0px 1px 3px 1px rgba(0, 0, 0, 0.15);\n",
              "      filter: drop-shadow(0px 1px 2px rgba(0, 0, 0, 0.3));\n",
              "      fill: #FFFFFF;\n",
              "    }\n",
              "  </style>\n",
              "\n",
              "      <script>\n",
              "        const buttonEl =\n",
              "          document.querySelector('#df-9cbe9070-fef0-4ba1-bf9b-defb97e48589 button.colab-df-convert');\n",
              "        buttonEl.style.display =\n",
              "          google.colab.kernel.accessAllowed ? 'block' : 'none';\n",
              "\n",
              "        async function convertToInteractive(key) {\n",
              "          const element = document.querySelector('#df-9cbe9070-fef0-4ba1-bf9b-defb97e48589');\n",
              "          const dataTable =\n",
              "            await google.colab.kernel.invokeFunction('convertToInteractive',\n",
              "                                                     [key], {});\n",
              "          if (!dataTable) return;\n",
              "\n",
              "          const docLinkHtml = 'Like what you see? Visit the ' +\n",
              "            '<a target=\"_blank\" href=https://colab.research.google.com/notebooks/data_table.ipynb>data table notebook</a>'\n",
              "            + ' to learn more about interactive tables.';\n",
              "          element.innerHTML = '';\n",
              "          dataTable['output_type'] = 'display_data';\n",
              "          await google.colab.output.renderOutput(dataTable, element);\n",
              "          const docLink = document.createElement('div');\n",
              "          docLink.innerHTML = docLinkHtml;\n",
              "          element.appendChild(docLink);\n",
              "        }\n",
              "      </script>\n",
              "    </div>\n",
              "  </div>\n",
              "  "
            ]
          },
          "metadata": {},
          "execution_count": 42
        }
      ],
      "source": [
        "# Extract best parameters.\n",
        "results[results['MSE'] == results['MSE'].min()]"
      ]
    },
    {
      "cell_type": "code",
      "execution_count": 43,
      "metadata": {
        "id": "O6afBsC_U4yy",
        "colab": {
          "base_uri": "https://localhost:8080/"
        },
        "outputId": "c2a80828-5a11-4a80-c42a-7faae3a5f6e1"
      },
      "outputs": [
        {
          "output_type": "stream",
          "name": "stdout",
          "text": [
            "Optimized DT achieved MSE = 17.19.\n"
          ]
        }
      ],
      "source": [
        "# Initialize your final model\n",
        "dt_optimized = tree.DecisionTreeRegressor(\n",
        "    min_samples_split = 5,\n",
        "    min_samples_leaf = 4,\n",
        "    max_features = 4,\n",
        "    random_state = 1\n",
        "    )\n",
        "\n",
        "# Use both training and validation data to fit it (np.concatenate \"stacks\" the array like rbind in R)\n",
        "dt_optimized.fit(np.concatenate([X_train, X_val]), np.concatenate([y_train, y_val]))\n",
        "\n",
        "# Predict on test data\n",
        "y_test_hat_optimized = dt_optimized.predict(X_test)\n",
        "\n",
        "# Obtain and check mse on test data\n",
        "mse_optimized = mse = mean_squared_error(y_test_hat_optimized, y_test)\n",
        "print(f'Optimized DT achieved MSE = {round(mse_optimized, 2)}.')"
      ]
    },
    {
      "cell_type": "markdown",
      "metadata": {
        "id": "nbLtw0caU4yz"
      },
      "source": [
        "# Exercise 2\n",
        "\n",
        "(Optional/bonus): Try to perform standardization to your data. Does it improve your model? Further, try to select only the 5 most important features. Does it improve the performance of your model?"
      ]
    }
  ],
  "metadata": {
    "kernelspec": {
      "display_name": "Python 3",
      "language": "python",
      "name": "python3"
    },
    "language_info": {
      "codemirror_mode": {
        "name": "ipython",
        "version": 3
      },
      "file_extension": ".py",
      "mimetype": "text/x-python",
      "name": "python",
      "nbconvert_exporter": "python",
      "pygments_lexer": "ipython3",
      "version": "3.7.1"
    },
    "colab": {
      "provenance": [],
      "include_colab_link": true
    }
  },
  "nbformat": 4,
  "nbformat_minor": 0
}