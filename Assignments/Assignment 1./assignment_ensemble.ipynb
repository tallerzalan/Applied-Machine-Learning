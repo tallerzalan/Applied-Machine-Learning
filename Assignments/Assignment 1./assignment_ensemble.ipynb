{
  "cells": [
    {
      "cell_type": "markdown",
      "metadata": {
        "id": "view-in-github",
        "colab_type": "text"
      },
      "source": [
        "<a href=\"https://colab.research.google.com/github/tallerzalan/Applied-Machine-Learning/blob/main/Assignments/Assignment%201./assignment_ensemble.ipynb\" target=\"_parent\"><img src=\"https://colab.research.google.com/assets/colab-badge.svg\" alt=\"Open In Colab\"/></a>"
      ]
    },
    {
      "cell_type": "markdown",
      "metadata": {
        "id": "PQ3uNegYCK6A"
      },
      "source": [
        "# Assignment - ensembling\n",
        "\n",
        "In this assignment, you will use ensemble methods (or something else, if you want) to predict values in a classification problem.\n",
        "\n",
        "To get you started, I have provided a complete working example, which is decent but not very impressive.\n",
        "\n",
        "When you are done, submit your results on the Kaggle webpage for this competition. If you do not like to show your score to everyone, you may use an anonymous username on Kaggle.\n",
        "\n",
        "However, I suggest you use your real name, after all it is just meant as an exercise and it is more fun that way. You can submit 5 times every day, so you can experiment with some stuff without being \"locked in\"."
      ]
    },
    {
      "cell_type": "markdown",
      "metadata": {
        "id": "EZqPld27CK6G"
      },
      "source": [
        "# Hints to get a good model\n",
        "\n",
        "Be sure to construct a validation set and use it to optimize the parameters of your model.\n",
        "\n",
        "Further, consider strongly the use of boosting.\n",
        "\n",
        "**Note**: The dataset is quite large this time - so you need to restrict your search somewhat (or it will take a LONG time). So think carefully about what you want to optimize!"
      ]
    },
    {
      "cell_type": "markdown",
      "metadata": {
        "id": "3GYM585GCK6H"
      },
      "source": [
        "# Kaggle\n",
        "\n",
        "I have created a Kaggle webpage for this competition!\n",
        "\n",
        "You can use it to submit your predictions. It will then give you a score (based on **some** of the test data). The final score will be calculated using the **other** part of the test data (so you have to change of looking at the test data for the competition).\n",
        "\n",
        "You can visit the webpage here: https://www.kaggle.com/t/5ad8068c0a3249b098da7b0ea5156552. You need to create an account (free, just need an email)."
      ]
    },
    {
      "cell_type": "markdown",
      "metadata": {
        "id": "k7MTaVUXCK6I"
      },
      "source": [
        "# Details\n",
        "\n",
        "The metric used to score this assignment is accuracy."
      ]
    },
    {
      "cell_type": "code",
      "execution_count": null,
      "metadata": {
        "colab": {
          "base_uri": "https://localhost:8080/"
        },
        "id": "ZtMaRTiGKYz4",
        "outputId": "c83668aa-c824-4ef5-844d-6822a761fb04"
      },
      "outputs": [
        {
          "output_type": "stream",
          "name": "stdout",
          "text": [
            "Mounted at /content/drive\n"
          ]
        }
      ],
      "source": [
        "from google.colab import drive\n",
        "drive.mount('/content/drive')"
      ]
    },
    {
      "cell_type": "code",
      "execution_count": null,
      "metadata": {
        "id": "_iDfMV-XCK6J"
      },
      "outputs": [],
      "source": [
        "import pandas as pd\n",
        "import numpy as np\n",
        "import multiprocessing\n",
        "from matplotlib import pyplot\n",
        "\n",
        "from sklearn import ensemble\n",
        "from sklearn.metrics import accuracy_score\n",
        "from sklearn.preprocessing import StandardScaler\n",
        "from sklearn.model_selection import train_test_split, GridSearchCV, cross_val_score, RepeatedStratifiedKFold\n",
        "\n",
        "from lightgbm import LGBMClassifier"
      ]
    },
    {
      "cell_type": "code",
      "execution_count": null,
      "metadata": {
        "colab": {
          "base_uri": "https://localhost:8080/"
        },
        "id": "Os51HVEECK6M",
        "outputId": "49bdd300-1320-4850-ccdb-b8d742b8cc70"
      },
      "outputs": [
        {
          "output_type": "stream",
          "name": "stdout",
          "text": [
            "(48000, 204) (48000,) (12000, 204)\n"
          ]
        }
      ],
      "source": [
        "# Load data (must be in same folder as this file, which it will be if you simply unzip the assignment).\n",
        "# Note that we don't have any y_test! This way you cannot \"cheat\"!\n",
        "\n",
        "X_train = np.load('/content/drive/MyDrive/Colab Notebooks/Applied Machine Learning/Assignments/Assignments 1./data/X_train.npy')\n",
        "y_train = np.load('/content/drive/MyDrive/Colab Notebooks/Applied Machine Learning/Assignments/Assignments 1./data/y_train.npy')\n",
        "X_test = np.load('/content/drive/MyDrive/Colab Notebooks/Applied Machine Learning/Assignments/Assignments 1./data/X_test.npy')\n",
        "\n",
        "print(X_train.shape, y_train.shape, X_test.shape)"
      ]
    },
    {
      "cell_type": "code",
      "source": [
        "multiprocessing.cpu_count()\n",
        "\n",
        "model = LGBMClassifier()\n",
        "\n",
        "clf = GridSearchCV(model,\n",
        "                   {'num_leaves': [16, 32, 64],\n",
        "                    'max_bin': [100, 200],\n",
        "                    'n_estimators': [400, 500, 600],\n",
        "                    'lambda_l1': [0, 0.1]},\n",
        "                   verbose = 1,\n",
        "                   n_jobs = 8)\n",
        "\n",
        "clf.fit(X_train, y_train)\n",
        "print(clf.best_score_)\n",
        "print(clf.best_params_)\n",
        "\n",
        "y_test_hat = clf.predict(X_test)\n",
        "y_test_hat_pd = pd.DataFrame({\n",
        "    'Id': list(range(len(y_test_hat))),\n",
        "    'Category': y_test_hat,\n",
        "})\n",
        "\n",
        "# After you make your predictions, you should submit them on the Kaggle webpage for our competition.\n",
        "\n",
        "# Below is a small check that your output has the right type and shape\n",
        "assert isinstance(y_test_hat_pd, pd.DataFrame)\n",
        "assert all(y_test_hat_pd.columns == ['Id', 'Category'])\n",
        "\n",
        "# If you pass the checks, the file is saved.\n",
        "y_test_hat_pd.to_csv('y_test_hat.csv', index = False)"
      ],
      "metadata": {
        "id": "dQywlcuANhlI"
      },
      "execution_count": null,
      "outputs": []
    }
  ],
  "metadata": {
    "colab": {
      "collapsed_sections": [],
      "provenance": [],
      "include_colab_link": true
    },
    "kernelspec": {
      "display_name": "Python 3.10.4 ('amlfall22')",
      "language": "python",
      "name": "python3"
    },
    "language_info": {
      "codemirror_mode": {
        "name": "ipython",
        "version": 3
      },
      "file_extension": ".py",
      "mimetype": "text/x-python",
      "name": "python",
      "nbconvert_exporter": "python",
      "pygments_lexer": "ipython3",
      "version": "3.10.4"
    },
    "vscode": {
      "interpreter": {
        "hash": "d3cedec8935a2c28d6fd602c3007747750e2af1c4c937c29fac0d323bf1b544b"
      }
    },
    "accelerator": "GPU"
  },
  "nbformat": 4,
  "nbformat_minor": 0
}